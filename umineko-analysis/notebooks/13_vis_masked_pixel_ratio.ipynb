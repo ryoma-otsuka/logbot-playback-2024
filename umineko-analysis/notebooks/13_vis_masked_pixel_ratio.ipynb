{
 "cells": [
  {
   "cell_type": "markdown",
   "metadata": {},
   "source": [
    "# Masked Pixel Ratio (MPR) Visualization"
   ]
  },
  {
   "cell_type": "code",
   "execution_count": null,
   "metadata": {},
   "outputs": [],
   "source": [
    "import glob\n",
    "import pandas as pd\n",
    "import seaborn as sns\n",
    "\n",
    "import sys\n",
    "sys.path.append(\"../\") # Set parent directory to sys.path\n",
    "sys.dont_write_bytecode = True\n",
    "%load_ext autoreload\n",
    "%autoreload 2\n",
    "import src.utils as utils\n",
    "\n",
    "palette5 = sns.color_palette([\"#888888\", \"#D81B60\", \"#1E88E5\", \"#FFC107\", \"#004D40\"])\n",
    "palette2 = sns.color_palette([\"#D81B60\", \"#1E88E5\", \"#FFC107\", \"#004D40\"])\n",
    "palette = palette2\n",
    "display(palette)\n",
    "sns.set_theme(context='poster', style='ticks', palette=palette, font_scale=1.0)"
   ]
  },
  {
   "cell_type": "markdown",
   "metadata": {},
   "source": [
    "## Config"
   ]
  },
  {
   "cell_type": "code",
   "execution_count": null,
   "metadata": {},
   "outputs": [],
   "source": [
    "# shift_mode = 0 # no shift\n",
    "shift_mode = 1 # # simply shift by the amount of frame_diff"
   ]
  },
  {
   "cell_type": "code",
   "execution_count": null,
   "metadata": {},
   "outputs": [],
   "source": [
    "# used\n",
    "offset = 3\n",
    "start_shift = 0\n",
    "\n",
    "# offset = 4\n",
    "# start_shift = 0\n",
    "\n",
    "# offset = 10\n",
    "# start_shift = 0\n",
    "\n",
    "# offset = 10\n",
    "# start_shift = 2"
   ]
  },
  {
   "cell_type": "code",
   "execution_count": null,
   "metadata": {},
   "outputs": [],
   "source": [
    "if shift_mode == 0:\n",
    "    target_path = f\"../data/umineko-2024-v8i-yolov8/no-shift/*.csv\"\n",
    "    save_dir_base = f\"../output/figure/mpr-no-shift\"\n",
    "else:\n",
    "    target_path = f\"../data/umineko-2024-v8i-yolov8/offset-{offset:02d}-start-shift-{start_shift}/*.csv\"\n",
    "    save_dir_base = f\"../output/figure/mpr-offset-{offset:02d}-start-shift-{start_shift}\"\n",
    "print(f\"target_path: {target_path}\")\n",
    "print(f\"save_dir_base: {save_dir_base}\")\n",
    "\n",
    "input_path_list = sorted(glob.glob(target_path))\n",
    "print(f\"{len(input_path_list)}\")"
   ]
  },
  {
   "cell_type": "code",
   "execution_count": null,
   "metadata": {},
   "outputs": [],
   "source": [
    "df = pd.read_csv(input_path_list[0])\n",
    "display(df.head(3))\n",
    "print(df.columns)"
   ]
  },
  {
   "cell_type": "markdown",
   "metadata": {},
   "source": [
    "### AD-MPR | Absolute difference in Masked Pixel Ration"
   ]
  },
  {
   "cell_type": "code",
   "execution_count": null,
   "metadata": {},
   "outputs": [],
   "source": [
    "utils.vis_masked_pixel_data(\n",
    "    input_path_list,\n",
    "    y_colname = \"abs_diff_pixel_count_p\",\n",
    "    save_dir = f\"{save_dir_base}/ad-mpr\"\n",
    ")"
   ]
  },
  {
   "cell_type": "markdown",
   "metadata": {},
   "source": [
    "## MPR | Masked Pixel Ratio"
   ]
  },
  {
   "cell_type": "code",
   "execution_count": null,
   "metadata": {},
   "outputs": [],
   "source": [
    "utils.vis_masked_pixel_data(\n",
    "    input_path_list,\n",
    "    y_colname = \"pixel_count_p\",\n",
    "    save_dir = f\"{save_dir_base}/mpr\"\n",
    ")"
   ]
  },
  {
   "cell_type": "code",
   "execution_count": null,
   "metadata": {},
   "outputs": [],
   "source": []
  },
  {
   "cell_type": "code",
   "execution_count": null,
   "metadata": {},
   "outputs": [],
   "source": []
  }
 ],
 "metadata": {
  "kernelspec": {
   "display_name": "umineko-analysis-2024",
   "language": "python",
   "name": "python3"
  },
  "language_info": {
   "codemirror_mode": {
    "name": "ipython",
    "version": 3
   },
   "file_extension": ".py",
   "mimetype": "text/x-python",
   "name": "python",
   "nbconvert_exporter": "python",
   "pygments_lexer": "ipython3",
   "version": "3.11.9"
  }
 },
 "nbformat": 4,
 "nbformat_minor": 2
}
