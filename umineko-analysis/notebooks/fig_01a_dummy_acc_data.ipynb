{
 "cells": [
  {
   "cell_type": "markdown",
   "metadata": {},
   "source": [
    "# Fig. 1. IMU Data"
   ]
  },
  {
   "cell_type": "code",
   "execution_count": null,
   "metadata": {},
   "outputs": [],
   "source": [
    "import warnings\n",
    "warnings.simplefilter('ignore', FutureWarning)\n",
    "\n",
    "import numpy as np\n",
    "import pandas as pd\n",
    "import matplotlib.pyplot as plt\n",
    "import seaborn as sns\n",
    "pd.set_option('display.min_rows', 100)\n",
    "palette0 = sns.color_palette(['#E69F00', '#56B4E9', '#009E73', '#F0E442', '#0072B2', '#D55E00', '#CC79A7', '#000000']) # Okabe-Ito\n",
    "display(palette0)\n",
    "palette2 = sns.color_palette([\"#D81B60\", \"#1E88E5\", \"#FFC107\", \"#004D40\"])\n",
    "palette = palette2\n",
    "display(palette)\n",
    "sns.set_palette(palette)\n",
    "sns.set_theme(context='poster', style='ticks', palette=palette, font_scale=1.0)"
   ]
  },
  {
   "cell_type": "markdown",
   "metadata": {},
   "source": [
    "## Dummy data generation"
   ]
  },
  {
   "cell_type": "code",
   "execution_count": null,
   "metadata": {},
   "outputs": [],
   "source": [
    "sampling_rate = 25  # Hz\n",
    "flapping_frequency = 4  # Hz\n",
    "duration_list = [5, 1, 1, 10, 1, 14, 10] # Stationary -> Flying (Before -> Playback -> After)\n",
    "num_samples_list = []\n",
    "for duration in duration_list:\n",
    "    num_samples_list.append(duration * sampling_rate)\n",
    "print(duration_list)\n",
    "print(num_samples_list)\n",
    "\n",
    "df = pd.DataFrame()\n",
    "for i, num_samples in enumerate(num_samples_list):\n",
    "    np.random.seed(0)\n",
    "    duration = duration_list[i]\n",
    "    \n",
    "    # sampling from normal distribution\n",
    "    if i == 0:\n",
    "        acc_x = np.random.normal(loc=0, scale=0.05, size=num_samples)\n",
    "        acc_y = np.random.normal(loc=0, scale=0.05, size=num_samples)\n",
    "        acc_z = np.random.normal(loc=1, scale=0.05, size=num_samples)\n",
    "    elif i == 1:\n",
    "        acc_x = np.random.normal(loc=0, scale=0.2, size=num_samples)\n",
    "        acc_y = np.random.normal(loc=0, scale=0.2, size=num_samples)\n",
    "        acc_z = np.random.normal(loc=1, scale=0.2, size=num_samples)\n",
    "    elif i == 2:\n",
    "        acc_x = np.random.normal(loc=0, scale=0.3, size=num_samples)\n",
    "        acc_y = np.random.normal(loc=0, scale=0.3, size=num_samples)\n",
    "        t = np.linspace(0, duration, num_samples, endpoint=False)\n",
    "        acc_z = 1 + np.sin(2 * np.pi * flapping_frequency * t)\n",
    "        _z_noise = np.random.normal(loc=0, scale=0.3, size=num_samples)\n",
    "        acc_z = acc_z + _z_noise\n",
    "    elif i == 4:\n",
    "        acc_x = np.random.normal(loc=-0.2, scale=1.0, size=num_samples)\n",
    "        acc_y = np.random.normal(loc=-0.1, scale=1.0, size=num_samples)\n",
    "        t = np.linspace(0, duration, num_samples, endpoint=False)\n",
    "        acc_z = 1 + np.sin(2 * np.pi * flapping_frequency * t)\n",
    "        _z_noise = np.random.normal(loc=0.5, scale=2.0, size=num_samples)\n",
    "        acc_z = acc_z + _z_noise\n",
    "    else:\n",
    "        acc_x = np.random.normal(loc=0, scale=0.1, size=num_samples)\n",
    "        acc_y = np.random.normal(loc=0, scale=0.1, size=num_samples)\n",
    "        t = np.linspace(0, duration, num_samples, endpoint=False)\n",
    "        acc_z = 1 + np.sin(2 * np.pi * flapping_frequency * t)\n",
    "        _z_noise = np.random.normal(loc=0, scale=0.1, size=num_samples)\n",
    "        acc_z = acc_z + _z_noise\n",
    "    data = pd.DataFrame({'acc_x': acc_x, 'acc_y': acc_y, 'acc_z': acc_z})\n",
    "    df = pd.concat([df, data], axis=0)"
   ]
  },
  {
   "cell_type": "code",
   "execution_count": null,
   "metadata": {},
   "outputs": [],
   "source": [
    "print(len(df))\n",
    "display(df.head(5))\n",
    "display(df.tail(5))"
   ]
  },
  {
   "cell_type": "code",
   "execution_count": null,
   "metadata": {},
   "outputs": [],
   "source": [
    "# Change the path appropriately\n",
    "# save_dir = \"../path_to_save_dir\"\n",
    "save_dir = \"C:/Users/ryoma/D/writing/00-first/005_Otsuka_202x_MEE_logbot_v5_playback_umineko/otsuka-logbot-v5-playback-umineko/illustration/materials/\""
   ]
  },
  {
   "cell_type": "markdown",
   "metadata": {},
   "source": [
    "## Visualisation"
   ]
  },
  {
   "cell_type": "markdown",
   "metadata": {},
   "source": [
    "### Stationary"
   ]
  },
  {
   "cell_type": "code",
   "execution_count": null,
   "metadata": {},
   "outputs": [],
   "source": [
    "sns.set_theme(context='poster', style='ticks', palette=palette, font_scale=1.0) # very good to see\n",
    "_df = df[:25]\n",
    "ALPHA = 0.9\n",
    "LINEWIDTH = 5.0\n",
    "fig, ax = plt.subplots(1, 1, figsize=(5, 3))\n",
    "t = np.arange(0, len(_df), 1)\n",
    "sns.lineplot(data=_df, x=t, y='acc_x', linewidth=LINEWIDTH, color=palette[0], alpha=ALPHA, label='x', ax=ax)\n",
    "sns.lineplot(data=_df, x=t, y='acc_y', linewidth=LINEWIDTH, color=palette[2], alpha=ALPHA, label='y', ax=ax)\n",
    "sns.lineplot(data=_df, x=t, y='acc_z', linewidth=LINEWIDTH, color=palette[1], alpha=ALPHA, label='z', ax=ax)\n",
    "# ax.set_xlabel(\"t\", labelpad=10)\n",
    "ax.set_ylabel(\"Acc (g)\", labelpad=10)\n",
    "ax.set_xticks(np.arange(0, 30, 5))\n",
    "ax.set_xlim(-2.2, 26)\n",
    "ax.set_yticks(np.arange(-4, 5, 1))\n",
    "ax.set_ylim(-1.2, 2.4)\n",
    "ax.grid(which='major')\n",
    "# ax.legend(ncols=3, loc='lower right')\n",
    "ax.legend().remove()\n",
    "plt.tight_layout()\n",
    "plt.show()\n",
    "plt.close()\n",
    "filename = \"fig_01_acc_stationary\"\n",
    "# fig.savefig(f\"{save_dir}/{filename}.svg\", pad_inches=0.0, transparent=True)"
   ]
  },
  {
   "cell_type": "markdown",
   "metadata": {},
   "source": [
    "### Flying"
   ]
  },
  {
   "cell_type": "code",
   "execution_count": null,
   "metadata": {},
   "outputs": [],
   "source": [
    "sns.set_theme(context='poster', style='ticks', palette=palette, font_scale=1.0) # very good to see\n",
    "_df = df[200:225]\n",
    "ALPHA = 0.9\n",
    "LINEWIDTH = 5.0\n",
    "fig, ax = plt.subplots(1, 1, figsize=(5, 3))\n",
    "t = np.arange(0, len(_df), 1)\n",
    "sns.lineplot(data=_df, x=t, y='acc_x', linewidth=LINEWIDTH, color=palette[0], alpha=ALPHA, label='x', ax=ax)\n",
    "sns.lineplot(data=_df, x=t, y='acc_y', linewidth=LINEWIDTH, color=palette[2], alpha=ALPHA, label='y', ax=ax)\n",
    "sns.lineplot(data=_df, x=t, y='acc_z', linewidth=LINEWIDTH, color=palette[1], alpha=ALPHA, label='z', ax=ax)\n",
    "# ax.set_xlabel(\"t\", labelpad=10)\n",
    "ax.set_ylabel(\"Acc (g)\", labelpad=10)\n",
    "ax.set_xticks(np.arange(0, 30, 5))\n",
    "ax.set_xlim(-2.2, 26)\n",
    "ax.set_yticks(np.arange(-4, 5, 1))\n",
    "ax.set_ylim(-1.2, 2.4)\n",
    "ax.grid(which='major')\n",
    "# ax.legend(ncols=3, loc='lower right')\n",
    "ax.legend().remove()\n",
    "plt.tight_layout()\n",
    "plt.show()\n",
    "plt.close()\n",
    "filename = \"fig_01_acc_flying\"\n",
    "# fig.savefig(f\"{save_dir}/{filename}.svg\", pad_inches=0.0, transparent=True)"
   ]
  },
  {
   "cell_type": "markdown",
   "metadata": {},
   "source": [
    "### Stationary + Flying (simple)"
   ]
  },
  {
   "cell_type": "code",
   "execution_count": null,
   "metadata": {},
   "outputs": [],
   "source": [
    "sns.set_theme(context='poster', style='ticks', palette=palette, font_scale=1.2) # very good to see\n",
    "ALPHA = 0.9\n",
    "LINEWIDTH = 3.0\n",
    "FONTSIZE = 20\n",
    "fig, ax = plt.subplots(1, 1, figsize=(8, 5))\n",
    "t = np.arange(0, len(df), 1)\n",
    "sns.lineplot(data=df, x=t, y='acc_x', linewidth=LINEWIDTH, color=palette[0], alpha=ALPHA, label='x', ax=ax)\n",
    "sns.lineplot(data=df, x=t, y='acc_y', linewidth=LINEWIDTH, color=palette[2], alpha=ALPHA, label='y', ax=ax)\n",
    "sns.lineplot(data=df, x=t, y='acc_z', linewidth=LINEWIDTH, color=palette[1], alpha=ALPHA, label='z', ax=ax)\n",
    "\n",
    "ax.set_xlabel(\"Time\", labelpad=5)\n",
    "ax.set_ylabel(\"Acceleration (g)\", labelpad=10)\n",
    "ax.set_xlim(60, 240)\n",
    "ax.set_yticks(np.arange(-4, 5, 1))\n",
    "ax.set_ylim(-1.8, 2.8)\n",
    "ax.grid(which='major')\n",
    "ax.legend(ncols=3, loc='lower right')\n",
    "ax.get_legend().remove()\n",
    "x_labels = [f'$t_{0}$', f'$t_{1}$', f'$t_{2}$', f'$t_{3}$', f'$t_{4}$']\n",
    "ax.set_xticklabels(x_labels)\n",
    "plt.tight_layout()\n",
    "plt.show()\n",
    "plt.close()\n",
    "filename = \"fig_01_acc_simple\"\n",
    "# fig.savefig(f\"{save_dir}/{filename}.svg\", bbox_inches=\"tight\", pad_inches=0.25, transparent=False)"
   ]
  },
  {
   "cell_type": "markdown",
   "metadata": {},
   "source": [
    "### All with labels"
   ]
  },
  {
   "cell_type": "code",
   "execution_count": null,
   "metadata": {},
   "outputs": [],
   "source": [
    "# sns.set_theme(context='poster', style='ticks', palette=palette, font_scale=1.2) # very good to see\n",
    "# ALPHA = 0.9\n",
    "# LINEWIDTH = 2.5\n",
    "# FONTSIZE = 20\n",
    "# fig, ax = plt.subplots(1, 1, figsize=(20, 6.4))\n",
    "# t = np.arange(0, len(df), 1)\n",
    "# sns.lineplot(data=df, x=t, y='acc_x', linewidth=LINEWIDTH, color=palette[0], alpha=ALPHA, label='x', ax=ax)\n",
    "# sns.lineplot(data=df, x=t, y='acc_y', linewidth=LINEWIDTH, color=palette[2], alpha=ALPHA, label='y', ax=ax)\n",
    "# sns.lineplot(data=df, x=t, y='acc_z', linewidth=LINEWIDTH, color=palette[1], alpha=ALPHA, label='z', ax=ax)\n",
    "\n",
    "\n",
    "# # Speaker\n",
    "# # ax.text(x=325, y=2.8, s=\"Playback\", fontsize=FONTSIZE, color=palette[2], fontweight='bold')\n",
    "# # ax.annotate('', xy=(410, 3.0), xytext=(385, 3.0), arrowprops=dict(facecolor=palette[2], edgecolor=None, shrink=0.05, width=5, headwidth=20, headlength=15))\n",
    "# ax.axvspan(xmin=400, xmax=400+sampling_rate*3.4, ymin=0.00, ymax=1.0, facecolor=palette2[2], alpha=0.20, edgecolor=None)\n",
    "\n",
    "# # Camera\n",
    "# ax.text(x=20, y=-3.6, s=\"Camera OFF\", fontsize=FONTSIZE, color=\"white\", fontweight='bold')\n",
    "# ax.text(x=285, y=-3.6, s=\"Camera ON (Triggered by stable flight)\", fontsize=FONTSIZE, color=\"white\", fontweight='bold')\n",
    "# ax.text(x=635, y=-3.6, s=\"Camera OFF\", fontsize=FONTSIZE, color=\"white\", fontweight='bold')\n",
    "# ax.axvspan(xmin=0, xmax=275, ymin=0.13, ymax=0.26, facecolor=palette2[0], alpha=0.30, edgecolor=None)\n",
    "# ax.axvspan(xmin=275, xmax=625, ymin=0.13, ymax=0.26, facecolor=palette2[0], alpha=0.75, edgecolor=None)\n",
    "# ax.axvspan(xmin=625, xmax=1000, ymin=0.13, ymax=0.26, facecolor=palette2[0], alpha=0.30, edgecolor=None)\n",
    "\n",
    "# # GPS\n",
    "# ax.text(x=20, y=-5.0, s=\"GPS Low Freq.\", fontsize=FONTSIZE, color=\"white\", fontweight='bold')\n",
    "# ax.text(x=190, y=-5.0, s=\"GPS High Freq. (Triggered by flying)\", fontsize=FONTSIZE, color=\"white\", fontweight='bold')\n",
    "# ax.axvspan(xmin=0, xmax=180, ymin=0.01, ymax=0.13, facecolor=palette0[2], alpha=0.50, edgecolor=None)\n",
    "# ax.axvspan(xmin=180, xmax=1000, ymin=0.01, ymax=0.13, facecolor=palette0[2], alpha=0.95, edgecolor=None)\n",
    "\n",
    "# # Behaviour\n",
    "# ax.text(x=20, y=4.5, s=\"Stationary\", fontsize=FONTSIZE, color=\"white\", fontweight='bold')\n",
    "# ax.text(x=150, y=4.5, s=\"Flying\", fontsize=FONTSIZE, color=\"white\", fontweight='bold')\n",
    "# # ax.text(x=810, y=4.5, s=\"Stationary\", fontsize=FONTSIZE, color=\"white\", fontweight='bold')\n",
    "# ax.axvspan(xmin=0, xmax=145, ymin=0.87, ymax=0.99, facecolor=palette0[5], alpha=0.70, edgecolor=None)\n",
    "# ax.axvspan(xmin=145, xmax=1000, ymin=0.87, ymax=0.99, facecolor=palette0[4], alpha=0.70, edgecolor=None)\n",
    "# # ax.axvspan(xmin=800, xmax=1000, ymin=0.87, ymax=0.99, facecolor=palette0[1], alpha=0.90, edgecolor=None)\n",
    "\n",
    "# ax.set_xlabel(\"Time\", labelpad=5)\n",
    "# ax.set_ylabel(\"Acceleration (g)\", labelpad=10)\n",
    "# ax.set_xlim(100-90, 800+90)\n",
    "# # ax.set_yticks(np.arange(-4, 5, 2))\n",
    "# ax.set_yticks(np.arange(-2, 3, 2))\n",
    "# ax.set_ylim(-5.5, 5.5)\n",
    "# ax.grid(which='major')\n",
    "# ax.legend(ncols=3, loc='center', bbox_to_anchor=(0.82, 0.38))\n",
    "# plt.tight_layout()\n",
    "# plt.show()\n",
    "# plt.close()\n",
    "# filename = \"fig_01_acc\"\n",
    "# # fig.savefig(f\"{save_dir}/{filename}.svg\", pad_inches=0.0, transparent=True)"
   ]
  },
  {
   "cell_type": "code",
   "execution_count": null,
   "metadata": {},
   "outputs": [],
   "source": []
  }
 ],
 "metadata": {
  "kernelspec": {
   "display_name": "umineko-analysis-2024",
   "language": "python",
   "name": "python3"
  },
  "language_info": {
   "codemirror_mode": {
    "name": "ipython",
    "version": 3
   },
   "file_extension": ".py",
   "mimetype": "text/x-python",
   "name": "python",
   "nbconvert_exporter": "python",
   "pygments_lexer": "ipython3",
   "version": "3.11.9"
  }
 },
 "nbformat": 4,
 "nbformat_minor": 2
}
