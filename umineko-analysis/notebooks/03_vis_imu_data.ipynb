{
 "cells": [
  {
   "attachments": {},
   "cell_type": "markdown",
   "metadata": {},
   "source": [
    "# IMU Data Visualization"
   ]
  },
  {
   "cell_type": "code",
   "execution_count": null,
   "metadata": {},
   "outputs": [],
   "source": [
    "import warnings\n",
    "warnings.simplefilter('ignore', FutureWarning)\n",
    "\n",
    "import glob\n",
    "import seaborn as sns\n",
    "from IPython.display import display\n",
    "\n",
    "import sys\n",
    "sys.path.append(\"../\") # Set parent directory to sys.path\n",
    "sys.dont_write_bytecode = True\n",
    "%load_ext autoreload\n",
    "%autoreload 2\n",
    "import src.utils as utils\n",
    "\n",
    "palette2 = sns.color_palette([\"#D81B60\", \"#1E88E5\", \"#FFC107\", \"#004D40\"])\n",
    "palette = palette2\n",
    "display(palette)\n",
    "sns.set_palette(palette)\n",
    "\n",
    "sns.set_theme(context='poster', style='ticks', palette=palette, font_scale=1.0)"
   ]
  },
  {
   "cell_type": "code",
   "execution_count": null,
   "metadata": {},
   "outputs": [],
   "source": [
    "target_path = \"../data/extracted-imu-data/*/*.csv\"\n",
    "path_list = sorted(glob.glob(target_path))\n",
    "print(len(path_list))\n",
    "# path_list = path_list[6:7] # for debugging\n",
    "path_list = path_list[0:2] # for debugging"
   ]
  },
  {
   "cell_type": "markdown",
   "metadata": {},
   "source": [
    "## Acceleration"
   ]
  },
  {
   "cell_type": "markdown",
   "metadata": {},
   "source": [
    "### Raw Acc Data"
   ]
  },
  {
   "cell_type": "code",
   "execution_count": null,
   "metadata": {},
   "outputs": [],
   "source": [
    "fig = utils.vis_imu_data_v5(\n",
    "    path_list, \n",
    "    data_type=\"acc\", \n",
    "    save_dir=\"../output/figure/acc/raw\",\n",
    "    filter_type=None,\n",
    "    before_sec=30,\n",
    "    title=True, \n",
    ")"
   ]
  },
  {
   "cell_type": "markdown",
   "metadata": {},
   "source": [
    "### Smoothed VeDBA (2s)"
   ]
  },
  {
   "cell_type": "code",
   "execution_count": null,
   "metadata": {},
   "outputs": [],
   "source": [
    "fig = utils.vis_imu_data_v5(\n",
    "    path_list, \n",
    "    data_type=\"smoothed_VeDBA_2s\", \n",
    "    save_dir=\"../output/figure/acc/s_vedba_2s\",\n",
    "    filter_type=None,\n",
    "    before_sec=30,\n",
    "    title=True, \n",
    ")"
   ]
  },
  {
   "cell_type": "markdown",
   "metadata": {},
   "source": [
    "### VeDBA"
   ]
  },
  {
   "cell_type": "code",
   "execution_count": null,
   "metadata": {},
   "outputs": [],
   "source": [
    "fig = utils.vis_imu_data_v5(\n",
    "    path_list, \n",
    "    data_type=\"VeDBA\", \n",
    "    save_dir=\"../output/figure/acc/vedba\",\n",
    "    filter_type=None,\n",
    "    before_sec=30,\n",
    "    title=True,\n",
    ")"
   ]
  },
  {
   "cell_type": "markdown",
   "metadata": {},
   "source": [
    "### ODBA"
   ]
  },
  {
   "cell_type": "code",
   "execution_count": null,
   "metadata": {},
   "outputs": [],
   "source": [
    "fig = utils.vis_imu_data_v5(\n",
    "    path_list, \n",
    "    data_type=\"ODBA\", \n",
    "    save_dir=\"../output/figure/acc/odba\",\n",
    "    filter_type=None,\n",
    "    before_sec=30,\n",
    "    title=True, \n",
    ")"
   ]
  },
  {
   "cell_type": "markdown",
   "metadata": {},
   "source": [
    "## Gyro"
   ]
  },
  {
   "cell_type": "markdown",
   "metadata": {},
   "source": [
    "### Raw Gyro Data"
   ]
  },
  {
   "cell_type": "code",
   "execution_count": null,
   "metadata": {},
   "outputs": [],
   "source": [
    "fig = utils.vis_imu_data_v5(\n",
    "    path_list, \n",
    "    data_type=\"gyro\", \n",
    "    save_dir=\"../output/figure/gyro/raw\",\n",
    "    filter_type=None,\n",
    "    before_sec=30,\n",
    "    title=True, \n",
    ")"
   ]
  },
  {
   "cell_type": "markdown",
   "metadata": {},
   "source": [
    "### Low pass filter"
   ]
  },
  {
   "cell_type": "code",
   "execution_count": null,
   "metadata": {},
   "outputs": [],
   "source": [
    "fig = utils.vis_imu_data_v5(\n",
    "    path_list, \n",
    "    data_type=\"gyro\", \n",
    "    save_dir=\"../output/figure/gyro/butter\",\n",
    "    filter_type=\"butter\",\n",
    "    before_sec=30,\n",
    "    title=True, \n",
    ")"
   ]
  },
  {
   "cell_type": "code",
   "execution_count": null,
   "metadata": {},
   "outputs": [],
   "source": []
  }
 ],
 "metadata": {
  "kernelspec": {
   "display_name": "Python 3 (ipykernel)",
   "language": "python",
   "name": "python3"
  },
  "language_info": {
   "codemirror_mode": {
    "name": "ipython",
    "version": 3
   },
   "file_extension": ".py",
   "mimetype": "text/x-python",
   "name": "python",
   "nbconvert_exporter": "python",
   "pygments_lexer": "ipython3",
   "version": "3.11.9"
  },
  "vscode": {
   "interpreter": {
    "hash": "9f16aeee9dd203c564fa426f6e5915d3fbcff8cd675a1dd8b2b6b88d205cd330"
   }
  }
 },
 "nbformat": 4,
 "nbformat_minor": 2
}
