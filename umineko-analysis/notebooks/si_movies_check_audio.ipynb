{
 "cells": [
  {
   "cell_type": "markdown",
   "metadata": {},
   "source": [
    "# Supplementary Movies (Audio data check)"
   ]
  },
  {
   "cell_type": "code",
   "execution_count": null,
   "metadata": {},
   "outputs": [],
   "source": [
    "import os\n",
    "import glob\n",
    "import numpy as np\n",
    "from scipy.io import wavfile\n",
    "import matplotlib.pyplot as plt\n",
    "import matplotlib.ticker as tck\n",
    "import seaborn as sns\n",
    "palette2 = sns.color_palette([\"#D81B60\", \"#1E88E5\", \"#FFC107\", \"#004D40\"])\n",
    "palette = palette2\n",
    "sns.set_theme(context='paper', style='ticks', palette=palette, font_scale=1.0)"
   ]
  },
  {
   "cell_type": "code",
   "execution_count": null,
   "metadata": {},
   "outputs": [],
   "source": [
    "def vis_entire_audio_data(data, sr, audio_file_name):\n",
    "    \n",
    "    if len(data.shape) > 1:\n",
    "        data = data[:, 0]\n",
    "    time = np.arange(len(data)) / sr\n",
    "    data = data / np.max(np.abs(data))\n",
    "\n",
    "    # plot\n",
    "    fig, ax = plt.subplots(figsize=(20, 3))\n",
    "    ax.plot(time, data, color=palette[1], linewidth=0.5)\n",
    "    ax.set_title(f'{audio_file_name}')\n",
    "    ax.set_xlabel('Time (s)')\n",
    "    ax.set_ylabel('Amplitude')\n",
    "    ax.set_xticks(np.arange(0, 200, 10))\n",
    "    ax.set_yticks(np.arange(-1, 1.1, 0.5))\n",
    "    ax.set_xlim(-5, time[-1]+ 5)\n",
    "    ax.set_ylim(-1.2, 1.2)\n",
    "    ax.grid(which='major')\n",
    "    ax.grid(which='minor')\n",
    "    ax.xaxis.set_minor_locator(tck.AutoMinorLocator(2))\n",
    "    ax.yaxis.set_minor_locator(tck.AutoMinorLocator(2))\n",
    "    plt.show()\n",
    "\n",
    "    return fig, ax"
   ]
  },
  {
   "cell_type": "code",
   "execution_count": null,
   "metadata": {},
   "outputs": [],
   "source": [
    "# Change the path appropriately\n",
    "# base_dir = \"../path_to_base_dir\"\n",
    "base_dir = \"C:/Users/ryoma/D/writing/00-first/005_Otsuka_202x_MEE_umineko_playback/otsuka-umineko-playback/logbot-v5-playback-supplementary-movies/raw-data\"\n",
    "\n",
    "audio_path_target = f'{base_dir}/*.wav'\n",
    "audio_path_list = sorted(glob.glob(audio_path_target))\n",
    "print(f\"N of wav files: {len(audio_path_list)}\")\n",
    "\n",
    "# LBP00 S00\n",
    "audio_file_name_0 = os.path.basename(audio_path_list[0])\n",
    "sr, data_0 = wavfile.read(audio_path_list[0])\n",
    "\n",
    "# LBP03 S00\n",
    "audio_file_name_1 = os.path.basename(audio_path_list[1])\n",
    "sr, data_1 = wavfile.read(audio_path_list[1])"
   ]
  },
  {
   "cell_type": "code",
   "execution_count": null,
   "metadata": {},
   "outputs": [],
   "source": [
    "# LBP01 S00\n",
    "fig, ax = vis_entire_audio_data(data_0, sr, audio_file_name_0)"
   ]
  },
  {
   "cell_type": "code",
   "execution_count": null,
   "metadata": {},
   "outputs": [],
   "source": [
    "# LBP03 S00\n",
    "fig, ax = vis_entire_audio_data(data_1, sr, audio_file_name_1)"
   ]
  },
  {
   "cell_type": "code",
   "execution_count": null,
   "metadata": {},
   "outputs": [],
   "source": []
  }
 ],
 "metadata": {
  "kernelspec": {
   "display_name": "venv-umineko-analysis",
   "language": "python",
   "name": "python3"
  },
  "language_info": {
   "codemirror_mode": {
    "name": "ipython",
    "version": 3
   },
   "file_extension": ".py",
   "mimetype": "text/x-python",
   "name": "python",
   "nbconvert_exporter": "python",
   "pygments_lexer": "ipython3",
   "version": "3.11.9"
  }
 },
 "nbformat": 4,
 "nbformat_minor": 2
}
