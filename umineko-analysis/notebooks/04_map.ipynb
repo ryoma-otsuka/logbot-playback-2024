{
 "cells": [
  {
   "attachments": {},
   "cell_type": "markdown",
   "metadata": {},
   "source": [
    "# Plot GPS trajectory on map (html)\n",
    "Extract data only when videos were recorded from the raw logdata.csv"
   ]
  },
  {
   "cell_type": "code",
   "execution_count": null,
   "metadata": {},
   "outputs": [],
   "source": [
    "import warnings\n",
    "warnings.simplefilter('ignore', FutureWarning)\n",
    "\n",
    "import os\n",
    "import glob\n",
    "import seaborn as sns\n",
    "from IPython.display import display\n",
    "\n",
    "import sys\n",
    "sys.path.append(\"../\") # Set parent directory to sys.path\n",
    "sys.dont_write_bytecode = True\n",
    "%load_ext autoreload\n",
    "%autoreload 2\n",
    "import src.utils as utils\n",
    "import src.map_vis as mv\n",
    "\n",
    "palette0 = sns.color_palette(['#E69F00', '#56B4E9', '#009E73', '#F0E442', '#0072B2', '#D55E00', '#CC79A7', '#000000'])\n",
    "palette2 = sns.color_palette([\"#D81B60\", \"#1E88E5\", \"#FFC107\", \"#004D40\"])\n",
    "palette = palette2\n",
    "display(palette)\n",
    "sns.set_theme(context='poster', style='ticks', palette=palette, font_scale=1.0)"
   ]
  },
  {
   "cell_type": "markdown",
   "metadata": {},
   "source": [
    "## Path"
   ]
  },
  {
   "cell_type": "code",
   "execution_count": null,
   "metadata": {},
   "outputs": [],
   "source": [
    "base_dir = \"../data\"\n",
    "test_dir = \"corrected-raw-data\"\n",
    "\n",
    "target_path = f\"{base_dir}/{test_dir}/*.csv\"\n",
    "print(f\"target_path: {target_path}\")\n",
    "\n",
    "path_list = glob.glob(target_path)\n",
    "print(f\"N of csv files: {len(path_list)}\")\n",
    "\n",
    "for i, path in enumerate(path_list):\n",
    "    test_id = os.path.basename(path).replace(\".csv\", \"\")\n",
    "    print(test_id)\n"
   ]
  },
  {
   "cell_type": "markdown",
   "metadata": {},
   "source": [
    "## Dynamic Map (.html)"
   ]
  },
  {
   "cell_type": "code",
   "execution_count": null,
   "metadata": {},
   "outputs": [],
   "source": [
    "# for i, path in enumerate(path_list):\n",
    "for i, path in enumerate(path_list[0:1]):\n",
    "# for i, path in enumerate(path_list[3:4]): # LBP03\n",
    "    print(\"--------------------------------------------------\")\n",
    "    \n",
    "    test_id = os.path.basename(path).replace(\".csv\", \"\")\n",
    "    print(f\"test_id: {test_id}\")\n",
    "\n",
    "    # load csv data\n",
    "    df = utils.load_logdata_and_prep_df_fix(path)\n",
    "    \n",
    "    # plot trajectory on map \n",
    "    m = mv.plot_trajectory_on_map_and_save_as_html(\n",
    "        df, \n",
    "        test_dir, \n",
    "        test_id, \n",
    "        only_cam_recording_session=True\n",
    "    )"
   ]
  },
  {
   "cell_type": "code",
   "execution_count": null,
   "metadata": {},
   "outputs": [],
   "source": []
  }
 ],
 "metadata": {
  "kernelspec": {
   "display_name": "Python 3 (ipykernel)",
   "language": "python",
   "name": "python3"
  },
  "language_info": {
   "codemirror_mode": {
    "name": "ipython",
    "version": 3
   },
   "file_extension": ".py",
   "mimetype": "text/x-python",
   "name": "python",
   "nbconvert_exporter": "python",
   "pygments_lexer": "ipython3",
   "version": "3.11.9"
  },
  "vscode": {
   "interpreter": {
    "hash": "9f16aeee9dd203c564fa426f6e5915d3fbcff8cd675a1dd8b2b6b88d205cd330"
   }
  }
 },
 "nbformat": 4,
 "nbformat_minor": 2
}
