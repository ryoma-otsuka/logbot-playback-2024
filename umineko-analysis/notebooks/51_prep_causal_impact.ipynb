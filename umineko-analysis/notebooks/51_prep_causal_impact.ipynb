{
 "cells": [
  {
   "cell_type": "markdown",
   "metadata": {},
   "source": [
    "# CausalImpact\n",
    "CausalImpact in R: https://github.com/google/CausalImpact  \n",
    "tfcausalimpact in Python: https://github.com/WillianFuks/tfcausalimpact"
   ]
  },
  {
   "cell_type": "code",
   "execution_count": null,
   "metadata": {},
   "outputs": [],
   "source": [
    "import warnings\n",
    "warnings.simplefilter('ignore', FutureWarning)\n",
    "\n",
    "import os\n",
    "import pandas as pd\n",
    "import seaborn as sns\n",
    "\n",
    "import sys\n",
    "sys.path.append(\"../\") # Set parent directory to sys.path\n",
    "sys.dont_write_bytecode = True\n",
    "%load_ext autoreload\n",
    "%autoreload 2\n",
    "# import src.utils as utils\n",
    "import src.ci_utils as ci_utils\n",
    "\n",
    "palette0 = sns.color_palette(['#E69F00', '#56B4E9', '#009E73', '#F0E442', '#0072B2', '#D55E00', '#CC79A7', '#000000']) # Okabe-Ito\n",
    "palette2 = sns.color_palette([\"#D81B60\", \"#1E88E5\", \"#FFC107\", \"#004D40\"])\n",
    "palette = palette0\n",
    "display(palette)\n",
    "sns.set_palette(palette)\n",
    "sns.set_theme(context='poster', style='ticks', palette=palette, font_scale=1.0)"
   ]
  },
  {
   "cell_type": "markdown",
   "metadata": {},
   "source": [
    "## Configuration"
   ]
  },
  {
   "cell_type": "code",
   "execution_count": null,
   "metadata": {},
   "outputs": [],
   "source": [
    "# run_id = \"run-05\"\n",
    "run_id = \"run-10\"\n",
    "# run_id = \"run-15\"\n",
    "# run_id = \"run-20\"\n",
    "\n",
    "cfg_path = f\"../output/causal-impact/{run_id}.yaml\"\n",
    "ci_cfg = ci_utils.load_from_yaml(cfg_path)\n",
    "display(ci_cfg)\n",
    "\n",
    "FIT_METHOD = ci_cfg['ci']['fit_method']\n",
    "ALPHA_LEVEL = ci_cfg['ci']['alpha_level'] \n",
    "USE_COVARIATES = ci_cfg['ci']['use_covariates']\n",
    "print(f\"fit_method: {FIT_METHOD}\")\n",
    "print(f\"alpha_level: {ALPHA_LEVEL}\")\n",
    "print(f\"use_covariates: {USE_COVARIATES}\")"
   ]
  },
  {
   "cell_type": "markdown",
   "metadata": {},
   "source": [
    "## Select data types as list"
   ]
  },
  {
   "cell_type": "code",
   "execution_count": null,
   "metadata": {},
   "outputs": [],
   "source": [
    "# data_type_list = [\"smoothed_VeDBA_2s\"] # S-VeDBA\n",
    "# data_type_list = [\"speed_distance_km_h\"]\n",
    "# data_type_list = [\"abs_diff_distance_m\"] # AD-Speed\n",
    "# data_type_list = [\"pixel_count_p\"]\n",
    "data_type_list = [\"abs_diff_pixel_count_p\"] # AD-MPR\n",
    "# data_type_list = [\"smoothed_VeDBA_2s\", \"abs_diff_distance_m\", \"abs_diff_pixel_count_p\"]\n",
    "\n",
    "for data_type in data_type_list:\n",
    "    print(f\"run_id: {run_id} | data_type: {data_type}\")\n",
    "    print(f\"before_sec: {ci_cfg['data'][data_type]['before_sec']}\")\n",
    "    print(f\"after_sec: {ci_cfg['data'][data_type]['after_sec']}\")\n",
    "    (\n",
    "        path_list, Y_col, X_cols, title_base\n",
    "    ) = ci_utils.setup_for_causal_impact_analysis(data_type, USE_COVARIATES)\n",
    "    print(len(path_list))\n",
    "\n",
    "    for i, path in enumerate(path_list):\n",
    "        session_name = os.path.basename(path).replace(\".csv\", \"\")\n",
    "        # print(\"-----------------------------------------------------------------------\")\n",
    "        print(f\"i: {i:2d} session_name: {session_name} | data_type: {data_type}\")\n",
    "        (\n",
    "            df, data, pre_period, post_period, intervention_start_index\n",
    "        ) = ci_utils.prep_data_for_causal_impact_analysis(path, Y_col, X_cols, data_type, ci_cfg)\n",
    "        \n",
    "        r_dir = f\"../r-analysis/data/ci-data/{run_id}/{data_type}/{session_name}\"\n",
    "        os.makedirs(r_dir, exist_ok=True)\n",
    "        data.to_csv(f'{r_dir}/data.csv', index=False)\n",
    "        periods = pd.DataFrame({'pre_period': pre_period, 'post_period': post_period})\n",
    "        periods.to_csv(f'{r_dir}/periods.csv', index=False)\n",
    "        # display(periods)"
   ]
  },
  {
   "cell_type": "code",
   "execution_count": null,
   "metadata": {},
   "outputs": [],
   "source": [
    "print(len(pre_period))\n",
    "print((pre_period))\n",
    "display(data)\n",
    "print(type(data))"
   ]
  },
  {
   "cell_type": "markdown",
   "metadata": {},
   "source": [
    "## Run CausalImpact in R"
   ]
  },
  {
   "cell_type": "code",
   "execution_count": null,
   "metadata": {},
   "outputs": [],
   "source": [
    "# Do not run the CausalImpact analysis in Python, \n",
    "# as it places too high computational load on a normal laptop PC (Windows laptop). \n",
    "# Running the analysis using the original R package seems to have a significantly lower computational load."
   ]
  },
  {
   "cell_type": "markdown",
   "metadata": {},
   "source": [
    "## Run Causal Impact in Python (NOT Used)"
   ]
  },
  {
   "cell_type": "code",
   "execution_count": null,
   "metadata": {},
   "outputs": [],
   "source": [
    "# for j, data_type in enumerate(data_type_list):\n",
    "#     (\n",
    "#         path_list, Y_col, X_cols, title_base\n",
    "#     ) = ci_utils.setup_for_causal_impact_analysis(data_type, ci_cfg)\n",
    "\n",
    "#     # for i, path in enumerate(path_list):\n",
    "#     for i, path in enumerate(path_list[36:]):\n",
    "#     # for i, path in enumerate(path_list[0:1]): # test with the first data (index = 0) \n",
    "#     # for i, path in enumerate(path_list[0:5]): # test with the first 5 data (index = 0, 1, 2, 3, 4) \n",
    "        \n",
    "#         # for debugging and plotting the figure 4\n",
    "#         # if \"LBP01_S00\" in path:\n",
    "#         #     print(path)\n",
    "#         # elif \"LBP03_S00\" in path:\n",
    "#         #     print(path)\n",
    "#         # else:\n",
    "#         #     continue # skip\n",
    "\n",
    "#         print(\"-----------------------------------------------------------------------\")\n",
    "#         session_name = os.path.basename(path).replace(\".csv\", \"\")\n",
    "#         print(f\"session_name: {session_name} | data_type: {data_type}\")\n",
    "#         (\n",
    "#             df, data, pre_period, post_period, intervention_start_index\n",
    "#         ) = ci_utils.prep_data_for_causal_impact_analysis(path, Y_col, X_cols, data_type, ci_cfg)\n",
    "        \n",
    "#         # Check intervention_start_index and skip the data if the intervention was cancelled\n",
    "#         print(f\"intervention_start_index: {intervention_start_index}\")\n",
    "#         if intervention_start_index == 0:\n",
    "#             print(\"Intervention cancelled -> Skip the data.\")\n",
    "#             continue\n",
    "        \n",
    "#         # Check the y values and skip if all values are zero.\n",
    "#         y_val = data['y'].values\n",
    "#         if np.all(y_val == 0):\n",
    "#             print(\"!!! All y values are zero !!!\")\n",
    "#             print(\"You cannot run CausalImpact analysis. -> Add very small value (1e-7).\")\n",
    "#             # Exception handler\n",
    "#             data = ci_utils.input_all_zeros_handler(data, pre_period)\n",
    "#         else:\n",
    "#             print(\"You can run CausalImpact analysis with the data.\")\n",
    "\n",
    "#         # Run CausalImpact model\n",
    "#         ci = CausalImpact(data, pre_period, post_period, model_args={'fit_method': FIT_METHOD}, alpha=ALPHA_LEVEL) \n",
    "#         print(ci.summary())\n",
    "        \n",
    "#         # Save the results\n",
    "#         save_dir = f\"../output/causal-impact/{run_id}/{data_type}/{session_name}\"\n",
    "#         os.makedirs(save_dir, exist_ok=True)\n",
    "#         fig_png_save_dir = f\"../output/causal-impact/{run_id}/{data_type}/png\"\n",
    "#         os.makedirs(fig_png_save_dir, exist_ok=True)\n",
    "#         # config data\n",
    "#         config_dict = {\n",
    "#             'alpha': ci.alpha,\n",
    "#             'model_args': ci.model_args,\n",
    "#         }\n",
    "#         with open(f'{save_dir}/config.yaml', 'w') as file:\n",
    "#             yaml.dump(config_dict, file, default_flow_style=False, allow_unicode=True)\n",
    "#         # summary report\n",
    "#         report_path = f\"{save_dir}/report.txt\"\n",
    "#         ci_utils.save_ci_summary_report_as_txt(ci, report_path)\n",
    "#         # summary data\n",
    "#         df_summary = ci.summary_data.reset_index().rename(columns={'index': 'value_name'})\n",
    "#         p_value = ci.p_value\n",
    "#         df_summary.loc[len(df_summary)] = ['p_value', p_value, p_value]\n",
    "#         df_summary.to_csv(f\"{save_dir}/summary_data.csv\", index=False)\n",
    "#         # inference data\n",
    "#         df_ci = pd.concat([data, ci.inferences], axis=1)\n",
    "#         df_ci.to_csv(f\"{save_dir}/df_ci.csv\", index=False)\n",
    "#         # plot\n",
    "#         _data_type = data_type.replace(\"-\", \"_\")\n",
    "#         file_name = f\"fig_ci_{session_name.lower()}_{_data_type}\"\n",
    "#         fig_title = f\"{session_name} | {title_base}\"\n",
    "#         fig = ci_utils.vis_causal_impact(df_ci, alpha=0.03, title=fig_title, data_type=data_type, ci_cfg=ci_cfg)\n",
    "#         fig.savefig(f\"{save_dir}/{file_name}.svg\", bbox_inches=\"tight\", pad_inches=0.25, transparent=False)\n",
    "#         fig.savefig(f\"{fig_png_save_dir}/{file_name}.png\", dpi=350, bbox_inches=\"tight\", pad_inches=0.25, transparent=False)\n",
    "#         plt.close()"
   ]
  },
  {
   "cell_type": "code",
   "execution_count": null,
   "metadata": {},
   "outputs": [],
   "source": [
    "# print(ci.summary_data)\n",
    "# print(type(ci.summary_data))\n",
    "# df_summary = ci.summary_data.reset_index().rename(columns={'index': 'value_name'})\n",
    "# p_value = ci.p_value\n",
    "# df_summary.loc[len(df_summary)] = ['p_value', p_value, p_value]\n",
    "# display(df_summary)"
   ]
  },
  {
   "cell_type": "code",
   "execution_count": null,
   "metadata": {},
   "outputs": [],
   "source": [
    "# print(ci.summary())"
   ]
  },
  {
   "cell_type": "code",
   "execution_count": null,
   "metadata": {},
   "outputs": [],
   "source": [
    "# print(ci.summary('report'))"
   ]
  }
 ],
 "metadata": {
  "kernelspec": {
   "display_name": "umineko-analysis",
   "language": "python",
   "name": "python3"
  },
  "language_info": {
   "codemirror_mode": {
    "name": "ipython",
    "version": 3
   },
   "file_extension": ".py",
   "mimetype": "text/x-python",
   "name": "python",
   "nbconvert_exporter": "python",
   "pygments_lexer": "ipython3",
   "version": "3.11.9"
  }
 },
 "nbformat": 4,
 "nbformat_minor": 2
}
