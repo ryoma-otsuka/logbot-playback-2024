{
 "cells": [
  {
   "cell_type": "markdown",
   "metadata": {},
   "source": [
    "# Fig. 1b materials"
   ]
  },
  {
   "cell_type": "code",
   "execution_count": null,
   "metadata": {},
   "outputs": [],
   "source": [
    "import os\n",
    "import glob\n",
    "import numpy as np\n",
    "import pandas as pd\n",
    "import matplotlib.pyplot as plt\n",
    "import seaborn as sns\n",
    "\n",
    "import sys\n",
    "sys.path.append(\"../\") # Set parent directory to sys.path\n",
    "sys.dont_write_bytecode = True\n",
    "%load_ext autoreload\n",
    "%autoreload 2\n",
    "import src.utils as utils\n",
    "import src.map_vis as mv\n",
    "\n",
    "palette0 = sns.color_palette(['#E69F00', '#56B4E9', '#009E73', '#F0E442', '#0072B2', '#D55E00', '#CC79A7', '#000000'])\n",
    "palette2 = sns.color_palette([\"#D81B60\", \"#1E88E5\", \"#FFC107\", \"#004D40\"])\n",
    "palette = palette2\n",
    "display(palette)\n",
    "sns.set_palette(palette)\n",
    "\n",
    "sns.set_theme(context='poster', style='ticks', palette=palette, font_scale=1.0)"
   ]
  },
  {
   "cell_type": "markdown",
   "metadata": {},
   "source": [
    "## IMU data"
   ]
  },
  {
   "cell_type": "code",
   "execution_count": null,
   "metadata": {},
   "outputs": [],
   "source": [
    "sns.set_theme(context='poster', style='ticks', palette=palette, font_scale=1.5)\n",
    "# Change the path appropriately\n",
    "# save_dir = \"../path_to_save_dir\"\n",
    "save_dir = \"C:/Users/ryoma/D/writing/00-first/005_Otsuka_202x_MEE_umineko_playback/otsuka-umineko-playback/illustration/materials\"\n",
    "target_path = \"../data/extracted-imu-data/*/*.csv\"\n",
    "path_list = sorted(glob.glob(target_path))\n",
    "print(f\"Number of csv files: {len(path_list)}\")"
   ]
  },
  {
   "cell_type": "markdown",
   "metadata": {},
   "source": [
    "### Accleration"
   ]
  },
  {
   "cell_type": "code",
   "execution_count": null,
   "metadata": {},
   "outputs": [],
   "source": [
    "# data\n",
    "df = pd.read_csv(path_list[6])\n",
    "\n",
    "# plot and customize\n",
    "fig, ax = plt.subplots(1, 1, figsize=(18*0.7, 5*0.7))\n",
    "ax = utils.plot_imu_data_v5(\n",
    "    df, ax, session_name=None, data_type=\"acc\", filter_type=None, \n",
    "    sampling_rate=25, plot_before_sec=12, plot_after_sec=12+5, title=None,\n",
    "    x_interval_sec=4\n",
    ")\n",
    "ax.set_xlabel(\"Time (s)\", labelpad=12)\n",
    "ax.set_ylabel(\"Acc (g)\", labelpad=12)\n",
    "ax.set_yticks(np.arange(-8, 8, 4))\n",
    "ax.set_ylim(-5.5, 5.5)\n",
    "ax.grid(axis='both', which='major', alpha=0.2)\n",
    "ax.grid(axis='both', which='minor', alpha=0.1)\n",
    "ax.legend(ncol=3, loc='lower right', columnspacing=0.9, handlelength=0.7)\n",
    "\n",
    "# save\n",
    "filename = \"fig_1b_acc\"\n",
    "# fig.savefig(f\"{save_dir}/{filename}.svg\", bbox_inches=\"tight\", pad_inches=0.25, transparent=False)\n",
    "# fig.savefig(f\"{save_dir}/{filename}.png\", bbox_inches=\"tight\", pad_inches=0.25, transparent=False)\n",
    "plt.show()\n",
    "plt.close()"
   ]
  },
  {
   "cell_type": "markdown",
   "metadata": {},
   "source": [
    "### Gyro (low pass filter)"
   ]
  },
  {
   "cell_type": "code",
   "execution_count": null,
   "metadata": {},
   "outputs": [],
   "source": [
    "# data\n",
    "# df = pd.read_csv(path_list[6])\n",
    "df = pd.read_csv(path_list[7])\n",
    "\n",
    "# plot and customize\n",
    "fig, ax = plt.subplots(1, 1, figsize=(18*0.7, 5*0.7))\n",
    "ax = utils.plot_imu_data_v5(\n",
    "    df, ax, session_name=None, data_type=\"gyro\", filter_type=\"butter\", \n",
    "    sampling_rate=25, plot_before_sec=12, plot_after_sec=12+5, title=None,\n",
    "    x_interval_sec=4\n",
    ")\n",
    "ax.set_xlabel(\"Time (s)\", labelpad=12)\n",
    "ax.set_ylabel(\"Gyro ($^\\circ$/s)\", labelpad=12)\n",
    "ax.grid(axis='both', which='major', alpha=0.2)\n",
    "ax.grid(axis='both', which='minor', alpha=0.1)\n",
    "ax.legend(ncol=3, loc='lower right', columnspacing=0.9, handlelength=0.7)\n",
    "\n",
    "# save\n",
    "filename = \"fig_1b_gyro\"\n",
    "# fig.savefig(f\"{save_dir}/{filename}.svg\", bbox_inches=\"tight\", pad_inches=0.25, transparent=False)\n",
    "# fig.savefig(f\"{save_dir}/{filename}.png\", bbox_inches=\"tight\", pad_inches=0.25, transparent=False)\n",
    "plt.show()\n",
    "plt.close()\n"
   ]
  },
  {
   "cell_type": "markdown",
   "metadata": {},
   "source": [
    "## GPS data"
   ]
  },
  {
   "cell_type": "markdown",
   "metadata": {},
   "source": [
    "### Real trajectory | umineko-2024 GPS data"
   ]
  },
  {
   "cell_type": "code",
   "execution_count": null,
   "metadata": {},
   "outputs": [],
   "source": [
    "# Kabushima shrine, Hachinohe city, Aomori, Japan\n",
    "kabushima_shrine = [40.538570, 141.557596] \n",
    "# save_dir = \"../output/figure/\"\n",
    "save_dir = \"C:/Users/ryoma/D/writing/00-first/005_Otsuka_202x_MEE_umineko_playback/otsuka-umineko-playback/illustration/materials\""
   ]
  },
  {
   "cell_type": "code",
   "execution_count": null,
   "metadata": {},
   "outputs": [],
   "source": [
    "test_id_list = [\n",
    "    \"LBP00\",\n",
    "    \"LBP01\",\n",
    "    \"LBP03\",\n",
    "    \"LBP05\",\n",
    "    \"LBP06\",\n",
    "    \"LBP07\",\n",
    "    \"LBP08\",\n",
    "    \"LBP09\",\n",
    "]"
   ]
  },
  {
   "cell_type": "code",
   "execution_count": null,
   "metadata": {},
   "outputs": [],
   "source": [
    "df_all = pd.DataFrame()\n",
    "target_path = \"../data/extracted-gps-data-fixed/*\"\n",
    "path_list = sorted(glob.glob(target_path))\n",
    "for i, path in enumerate(path_list):\n",
    "    # print(\"--------------------------------------------------\")\n",
    "    test_id = os.path.basename(path).replace(\".csv\", \"\")\n",
    "    if test_id not in test_id_list:\n",
    "        continue # skip\n",
    "    else:\n",
    "        print(f\"test_id: {test_id}\")\n",
    "    # load csv data\n",
    "    df = pd.read_csv(path)\n",
    "    df.insert(0, \"test_id\", [test_id]*len(df))\n",
    "    df_all = pd.concat([df_all, df], axis=0)\n",
    "df_all = df_all[df_all['fix_type'] == 3]\n",
    "df_all.reset_index(inplace=True)\n",
    "df = df_all\n",
    "# print(len(df))\n",
    "print(f\"Number of GPS data points: {len(df_all)}\")\n",
    "\n",
    "df = df[['test_id', 'latitude', 'longitude', 'camera_count', 'camera_recording', 'speaker_on']]\n",
    "display(df.head(3))\n",
    "display(df.tail(3))\n",
    "lats = df['latitude'].values\n",
    "lons = df['longitude'].values\n",
    "camera_recordings = df['camera_recording'].values\n",
    "speaker_ons = df['speaker_on'].values\n",
    "\n",
    "# assign one color per individual bird\n",
    "color_list = ['#E69F00', '#56B4E9', '#F0E442', '#009E73', '#0072B2', '#D55E00', '#CC79A7', '#999999', '#000000']\n",
    "color_map = dict(zip(test_id_list, color_list))\n",
    "print(color_map)\n",
    "\n",
    "# make colors list\n",
    "colors_per_bird = df['test_id'].map(color_map).tolist()\n",
    "print(colors_per_bird[:3])\n",
    "print(colors_per_bird[-3:])\n",
    "colors_per_bird = np.where(camera_recordings > 0.0, \"#D81B60\", colors_per_bird) # camera recording -> red"
   ]
  },
  {
   "cell_type": "code",
   "execution_count": null,
   "metadata": {},
   "outputs": [],
   "source": [
    "fig = mv.vis_trajectory_map(\n",
    "    lats, \n",
    "    lons, \n",
    "    colors_per_bird, \n",
    "    base_loc=kabushima_shrine\n",
    ")"
   ]
  },
  {
   "cell_type": "code",
   "execution_count": null,
   "metadata": {},
   "outputs": [],
   "source": [
    "# fig.savefig(f\"{save_dir}/trajectory_map_all_per_bird.svg\", bbox_inches=\"tight\", pad_inches=0.2, transparent=False)\n",
    "# fig.savefig(f\"{save_dir}/trajectory_map_all_per_bird.png\", dpi=350, bbox_inches=\"tight\", pad_inches=0.20, transparent=False)"
   ]
  },
  {
   "cell_type": "code",
   "execution_count": null,
   "metadata": {},
   "outputs": [],
   "source": [
    "# camera on/off only version\n",
    "colors_camera_on_off = np.where(camera_recordings > 0.0, \"#D81B60\", \"#FFC107\") # camera recording -> red\n",
    "fig = mv.vis_trajectory_map(\n",
    "    lats, \n",
    "    lons, \n",
    "    colors_camera_on_off, \n",
    "    base_loc=kabushima_shrine,\n",
    "    ax3_lats_lons_colors=None,\n",
    ")"
   ]
  },
  {
   "cell_type": "markdown",
   "metadata": {},
   "source": [
    "### Simulated trajectory\n",
    "The simulated data were used to adjust the plot."
   ]
  },
  {
   "cell_type": "code",
   "execution_count": null,
   "metadata": {},
   "outputs": [],
   "source": [
    "# Kabushima shrine, Hachinohe city, Aomori, Japan\n",
    "kabushima_shrine = [40.538570, 141.557596] \n",
    "N = 500"
   ]
  },
  {
   "cell_type": "markdown",
   "metadata": {},
   "source": [
    "#### Random Walk"
   ]
  },
  {
   "cell_type": "code",
   "execution_count": null,
   "metadata": {},
   "outputs": [],
   "source": [
    "random_lats, random_lons = mv.generate_random_trajectory(\n",
    "    random_type=\"random-walk\", \n",
    "    start_lat=40.70, \n",
    "    start_lon=141.70, \n",
    "    step_degree=0.005, \n",
    "    random_seed=3,\n",
    "    n_steps=N\n",
    ")\n",
    "colors = [\"#1E88E5\"]*len(random_lats)\n",
    "fig = mv.vis_trajectory_map(\n",
    "    random_lats, \n",
    "    random_lons, \n",
    "    colors, \n",
    "    kabushima_shrine, \n",
    "    plot_line=True\n",
    ")"
   ]
  },
  {
   "cell_type": "markdown",
   "metadata": {},
   "source": [
    "#### Levy Flights"
   ]
  },
  {
   "cell_type": "code",
   "execution_count": null,
   "metadata": {},
   "outputs": [],
   "source": [
    "levy_lats, levy_lons = mv.generate_random_trajectory(\n",
    "    random_type=\"levy-flights\",\n",
    "    start_lat=40.70, \n",
    "    start_lon=141.70, \n",
    "    step_degree=0.005, \n",
    "    random_seed=3,\n",
    "    n_steps=N\n",
    ")\n",
    "colors = [\"#1E88E5\"]*len(levy_lats)\n",
    "fig = mv.vis_trajectory_map(\n",
    "    levy_lats, \n",
    "    levy_lons, \n",
    "    colors, \n",
    "    kabushima_shrine, \n",
    "    plot_line=True\n",
    ")"
   ]
  },
  {
   "cell_type": "code",
   "execution_count": null,
   "metadata": {},
   "outputs": [],
   "source": []
  }
 ],
 "metadata": {
  "kernelspec": {
   "display_name": "venv-umineko-analysis",
   "language": "python",
   "name": "python3"
  },
  "language_info": {
   "codemirror_mode": {
    "name": "ipython",
    "version": 3
   },
   "file_extension": ".py",
   "mimetype": "text/x-python",
   "name": "python",
   "nbconvert_exporter": "python",
   "pygments_lexer": "ipython3",
   "version": "3.11.9"
  }
 },
 "nbformat": 4,
 "nbformat_minor": 2
}
