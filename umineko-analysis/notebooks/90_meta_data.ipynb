{
 "cells": [
  {
   "cell_type": "markdown",
   "metadata": {},
   "source": [
    "# Meta data"
   ]
  },
  {
   "cell_type": "code",
   "execution_count": null,
   "metadata": {},
   "outputs": [],
   "source": [
    "import warnings\n",
    "warnings.simplefilter('ignore', FutureWarning)\n",
    "\n",
    "import numpy as np\n",
    "import pandas as pd\n",
    "import matplotlib.pyplot as plt\n",
    "import seaborn as sns\n",
    "\n",
    "palette0 = sns.color_palette(['#E69F00', '#56B4E9', '#009E73', '#F0E442', '#0072B2', '#D55E00', '#CC79A7', '#000000']) # Okabe-Ito\n",
    "palette2 = sns.color_palette([\"#D81B60\", \"#1E88E5\", \"#FFC107\", \"#004D40\"])\n",
    "palette3 = sns.color_palette([\"#1E88E5\", \"#D81B60\", \"#FFC107\", \"#004D40\"])\n",
    "palette = palette3\n",
    "display(palette)\n",
    "sns.set_palette(palette)\n",
    "sns.set_theme(context='poster', style='ticks', palette=palette, font_scale=1.0)"
   ]
  },
  {
   "cell_type": "code",
   "execution_count": null,
   "metadata": {},
   "outputs": [],
   "source": [
    "def categorize_time(time):\n",
    "    if pd.to_datetime('03:00').time() <= time < pd.to_datetime('06:00').time():\n",
    "        return '03-06'\n",
    "    elif pd.to_datetime('06:00').time() <= time < pd.to_datetime('09:00').time():\n",
    "        return '06-09'\n",
    "    elif pd.to_datetime('09:00').time() <= time < pd.to_datetime('12:00').time():\n",
    "        return '09-12'\n",
    "    elif pd.to_datetime('12:00').time() <= time < pd.to_datetime('15:00').time():\n",
    "        return '12-15'\n",
    "    elif pd.to_datetime('15:00').time() <= time < pd.to_datetime('19:00').time():\n",
    "        return '15-19'\n",
    "    else:\n",
    "        return 'Other'"
   ]
  },
  {
   "cell_type": "code",
   "execution_count": null,
   "metadata": {},
   "outputs": [],
   "source": [
    "path = \"../data/metadata/session_data.csv\"\n",
    "df = pd.read_csv(path)\n",
    "category_map = {\n",
    "    'bay': 'onshore',\n",
    "    'bay_river': 'onshore',\n",
    "    'onshore': 'onshore',\n",
    "    'offshore': 'offshore',\n",
    "    'city': 'land',\n",
    "    'paddy_field': 'land',\n",
    "    'river': 'land'\n",
    "}\n",
    "location = df['location_category'].map(category_map)\n",
    "df.insert(len(df.columns), 'location', location)\n",
    "df['pb_time'] = pd.to_datetime(df['pb_time'], format='%H:%M:%S', errors='coerce').dt.time\n",
    "df['pb_time'] = df['pb_time'].apply(lambda x: x if pd.notna(x) else pd.to_datetime('00:00').time())\n",
    "df['AM_PM'] = df['pb_time'].apply(lambda x: 'PM' if x >= pd.to_datetime('12:00').time() else 'AM')\n",
    "df['time_category'] = df['pb_time'].apply(categorize_time)\n",
    "display(df)"
   ]
  },
  {
   "cell_type": "code",
   "execution_count": null,
   "metadata": {},
   "outputs": [],
   "source": [
    "df.groupby(['audio_file_name']).describe()"
   ]
  },
  {
   "cell_type": "markdown",
   "metadata": {},
   "source": [
    "# Visualization"
   ]
  },
  {
   "cell_type": "markdown",
   "metadata": {},
   "source": [
    "## Audio files"
   ]
  },
  {
   "cell_type": "code",
   "execution_count": null,
   "metadata": {},
   "outputs": [],
   "source": [
    "_df = df[df['audio_file_name'] != np.nan]\n",
    "_df = df[df['audio_file_name'] != \"Cancelled\"]\n",
    "fig, ax = plt.subplots(1, 1, figsize=(5, 4))\n",
    "sns.countplot(ax=ax, data=_df, x='audio_file_name')\n",
    "ax.set_ylim(0, 34)\n",
    "ax.set_xlabel(\"\")\n",
    "ax.set_ylabel(\"Count\", labelpad=10)\n",
    "plt.show()\n",
    "plt.close()"
   ]
  },
  {
   "cell_type": "markdown",
   "metadata": {},
   "source": [
    "## Individuals"
   ]
  },
  {
   "cell_type": "code",
   "execution_count": null,
   "metadata": {},
   "outputs": [],
   "source": [
    "test_id_list = list(np.unique(df['test_id']))\n",
    "GRIDSPEC_KW = {'wspace': 0.5, 'hspace': 0.5}\n",
    "fig, ax = plt.subplots(2, 4, figsize=(20, 8), gridspec_kw=GRIDSPEC_KW)\n",
    "ax_list = list(ax.flatten())\n",
    "for i, (ax, test_id) in enumerate(zip(ax_list, test_id_list)):\n",
    "    _df = df[df['test_id'] == f'{test_id}']\n",
    "    sns.countplot(\n",
    "        ax=ax, data=_df, x='audio_file_name', \n",
    "        order=['Predator', 'Noise'], \n",
    "        alpha=0.9,\n",
    "    )\n",
    "    ax.set_yticks(np.arange(0, 12, 2))\n",
    "    ax.set_ylim(0, 11)\n",
    "    ax.set_xlabel(\"\")\n",
    "    ax.set_ylabel(\"Count\", labelpad=10)\n",
    "    ax.set_title(f'{test_id}', pad=10)\n",
    "handles, labels = ax.get_legend_handles_labels()\n",
    "plt.show()\n",
    "plt.close()"
   ]
  },
  {
   "cell_type": "markdown",
   "metadata": {},
   "source": [
    "## Location"
   ]
  },
  {
   "cell_type": "code",
   "execution_count": null,
   "metadata": {},
   "outputs": [],
   "source": [
    "location_list = ['land', 'onshore', 'offshore']\n",
    "GRIDSPEC_KW = {'wspace': 0.4, 'hspace': 0.5}\n",
    "fig, ax = plt.subplots(1, 3, figsize=(18, 4), gridspec_kw=GRIDSPEC_KW)\n",
    "ax_list = list(ax.flatten())\n",
    "for i, (ax, location) in enumerate(zip(ax_list, location_list)):\n",
    "    _df = df[df['location'] == f'{location}']\n",
    "    sns.countplot(\n",
    "        ax=ax, data=_df, x='audio_file_name', \n",
    "        order=['Predator', 'Noise'], \n",
    "    )\n",
    "    ax.set_yticks(np.arange(0, 20, 5))\n",
    "    ax.set_ylim(0, 18)\n",
    "    ax.set_xlabel(\"\")\n",
    "    ax.set_ylabel(\"Count\", labelpad=10)\n",
    "    ax.set_title(f'{location}', pad=10)\n",
    "plt.show()\n",
    "plt.close()"
   ]
  },
  {
   "cell_type": "markdown",
   "metadata": {},
   "source": [
    "## Time category"
   ]
  },
  {
   "cell_type": "code",
   "execution_count": null,
   "metadata": {},
   "outputs": [],
   "source": [
    "am_pm_list = ['AM', 'PM']\n",
    "GRIDSPEC_KW = {'wspace': 0.4, 'hspace': 0.5}\n",
    "fig, ax = plt.subplots(1, 2, figsize=(10, 4), gridspec_kw=GRIDSPEC_KW)\n",
    "ax_list = list(ax.flatten())\n",
    "for i, (ax, am_pm) in enumerate(zip(ax_list, am_pm_list)):\n",
    "    _df = df[df['AM_PM'] == f'{am_pm}']\n",
    "    sns.countplot(\n",
    "        ax=ax, data=_df, x='audio_file_name', \n",
    "        order=['Predator', 'Noise'], \n",
    "    )\n",
    "    ax.set_yticks(np.arange(0, 20, 5))\n",
    "    ax.set_ylim(0, 18)\n",
    "    ax.set_xlabel(\"\")\n",
    "    ax.set_ylabel(\"Count\", labelpad=10)\n",
    "    ax.set_title(f'{am_pm}', pad=10)\n",
    "plt.show()\n",
    "plt.close()"
   ]
  },
  {
   "cell_type": "code",
   "execution_count": null,
   "metadata": {},
   "outputs": [],
   "source": [
    "time_cat_list = ['03-06', '06-09', '09-12', '12-15', '15-19']\n",
    "GRIDSPEC_KW = {'wspace': 0.4, 'hspace': 0.5}\n",
    "fig, ax = plt.subplots(1, 5, figsize=(28, 4), gridspec_kw=GRIDSPEC_KW)\n",
    "ax_list = list(ax.flatten())\n",
    "for i, (ax, time_cat) in enumerate(zip(ax_list, time_cat_list)):\n",
    "    _df = df[df['time_category'] == f'{time_cat}']\n",
    "    sns.countplot(\n",
    "        ax=ax, data=_df, x='audio_file_name', \n",
    "        order=['Predator', 'Noise'], \n",
    "    )\n",
    "    ax.set_yticks(np.arange(0, 20, 5))\n",
    "    ax.set_ylim(0, 18)\n",
    "    ax.set_xlabel(\"\")\n",
    "    ax.set_ylabel(\"Count\", labelpad=10)\n",
    "    ax.set_title(f'{time_cat}', pad=10)\n",
    "plt.show()\n",
    "plt.close()"
   ]
  }
 ],
 "metadata": {
  "kernelspec": {
   "display_name": "umineko-analysis",
   "language": "python",
   "name": "python3"
  },
  "language_info": {
   "codemirror_mode": {
    "name": "ipython",
    "version": 3
   },
   "file_extension": ".py",
   "mimetype": "text/x-python",
   "name": "python",
   "nbconvert_exporter": "python",
   "pygments_lexer": "ipython3",
   "version": "3.11.9"
  }
 },
 "nbformat": 4,
 "nbformat_minor": 2
}
