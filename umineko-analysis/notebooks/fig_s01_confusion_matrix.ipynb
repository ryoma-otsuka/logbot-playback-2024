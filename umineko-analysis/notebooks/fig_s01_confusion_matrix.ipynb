{
 "cells": [
  {
   "cell_type": "markdown",
   "metadata": {},
   "source": [
    "# Real time Behaviour Recognition Performance"
   ]
  },
  {
   "cell_type": "code",
   "execution_count": null,
   "metadata": {},
   "outputs": [],
   "source": [
    "import warnings\n",
    "warnings.simplefilter('ignore', FutureWarning)\n",
    "\n",
    "import os\n",
    "import glob\n",
    "import numpy as np\n",
    "import pandas as pd\n",
    "import matplotlib.pyplot as plt\n",
    "import seaborn as sns\n",
    "from sklearn.metrics import jaccard_score, recall_score, precision_score, f1_score\n",
    "from sklearn.metrics import confusion_matrix\n",
    "pd.set_option('display.min_rows', 100)\n",
    "\n",
    "import sys\n",
    "sys.path.append(\"../\") # Set parent directory to sys.path\n",
    "sys.dont_write_bytecode = True\n",
    "%load_ext autoreload\n",
    "%autoreload 2\n",
    "import src.utils as utils\n",
    "\n",
    "palette0 = sns.color_palette(['#E69F00', '#56B4E9', '#009E73', '#F0E442', '#0072B2', '#D55E00', '#CC79A7', '#000000']) # Okabe-Ito\n",
    "# palette1 = sns.color_palette([\"#ff4554\", \"#00bbdf\", \"#bad600\", \"#f02d7d\", \"#f8b62e\", \"#8b26a6\",\"#808080\"]) # https://anoiro.com/themes/switch-joycons\n",
    "palette2 = sns.color_palette([\"#D81B60\", \"#1E88E5\", \"#FFC107\", \"#004D40\"])\n",
    "palette3 = sns.color_palette([\"#1E88E5\", \"#D81B60\", \"#FFC107\", \"#004D40\"])\n",
    "palette = palette3\n",
    "display(palette)\n",
    "sns.set_palette(palette)\n",
    "sns.set_theme(context='poster', style='ticks', palette=palette, font_scale=1.0)"
   ]
  },
  {
   "cell_type": "markdown",
   "metadata": {},
   "source": [
    "# Ground Truth"
   ]
  },
  {
   "cell_type": "code",
   "execution_count": null,
   "metadata": {},
   "outputs": [],
   "source": [
    "path_gt = \"../data/ground-truth/umineko_2024_ground_truth.csv\"\n",
    "df_gt = pd.read_csv(path_gt)\n",
    "print(len(df_gt))\n",
    "display(df_gt.head(5))\n",
    "display(df_gt.tail(5))"
   ]
  },
  {
   "cell_type": "code",
   "execution_count": null,
   "metadata": {},
   "outputs": [],
   "source": [
    "df_gt_grouped = df_gt.groupby(['test_id', 'camera_count']).size().reset_index(name='count')\n",
    "display(df_gt_grouped)"
   ]
  },
  {
   "cell_type": "markdown",
   "metadata": {},
   "source": [
    "# Prediction"
   ]
  },
  {
   "cell_type": "code",
   "execution_count": null,
   "metadata": {},
   "outputs": [],
   "source": [
    "target_dir = f\"../data/extracted-gps-data/\"\n",
    "target_path = f\"{target_dir}/*/*.csv\"\n",
    "path_list = sorted(glob.glob(target_path))\n",
    "print(len(path_list))\n",
    "\n",
    "columns = [\n",
    "    'behavior_class', 'camera_command', 'camera_recording', 'camera_count'\n",
    "]\n",
    "\n",
    "df = pd.DataFrame()\n",
    "for i, path in enumerate(path_list):\n",
    "    test_id = os.path.basename(path)[:5]\n",
    "    session_id = os.path.basename(path)[6:9]\n",
    "    df_tmp = pd.read_csv(path)\n",
    "\n",
    "    # Exception handling\n",
    "    if (test_id == \"LBP03\" and session_id == \"S00\") or (test_id == \"LBP08\" and session_id in [\"S02\", \"S03\", \"S04\", \"S05\", \"S06\", \"S07\", \"S08\", \"S09\", \"S10\", \"S11\", \"S12\", \"S13\"]):\n",
    "        nan_rows = pd.DataFrame(np.nan, index=[0], columns=df.columns)\n",
    "        df_tmp = pd.concat([nan_rows, df_tmp], ignore_index=True)\n",
    "        df_tmp.iloc[0, df_tmp.columns.get_loc('test_id')] = test_id\n",
    "        df_tmp.iloc[0, df_tmp.columns.get_loc('camera_count')] = int(session_id[1:])\n",
    "        df_tmp.iloc[1, df_tmp.columns.get_loc('test_id')] = test_id\n",
    "        df_tmp.iloc[1, df_tmp.columns.get_loc('camera_count')] = int(session_id[1:])\n",
    "    print(f\"{test_id}_{session_id}: {len(df_tmp)}\")\n",
    "    # df_tmp = df_tmp[df_tmp['rtc_msec'] == 0]\n",
    "    # df_tmp = df_tmp[df_tmp['camera_count'] > -1]\n",
    "    df_tmp = df_tmp[columns]\n",
    "    df_tmp.insert(0, 'test_id', [test_id]*len(df_tmp))\n",
    "    df_tmp.insert(len(df_tmp.columns), 'program_sec', np.arange(1, len(df_tmp)+1, 1))\n",
    "    df = pd.concat([df, df_tmp], axis=0)\n",
    "\n",
    "df['old_index'] = df.index\n",
    "df = df.reset_index(drop=True)\n",
    "\n",
    "print(len(df))\n",
    "display(df)\n",
    "\n",
    "df_pred = df"
   ]
  },
  {
   "cell_type": "code",
   "execution_count": null,
   "metadata": {},
   "outputs": [],
   "source": [
    "df_grouped = df.groupby(['test_id', 'camera_count']).size().reset_index(name='count')\n",
    "display(df_grouped)"
   ]
  },
  {
   "cell_type": "code",
   "execution_count": null,
   "metadata": {},
   "outputs": [],
   "source": [
    "df_count = pd.concat([df_gt_grouped, df_grouped], axis=1)\n",
    "df_count.columns = ['test_id_gt', 'camera_count_gt', 'count_gt', 'test_id', 'camera_count', 'count']\n",
    "df_count.insert(len(df_count.columns), 'diff', df_count['count_gt']-df_count['count'])\n",
    "display(df_count)"
   ]
  },
  {
   "cell_type": "markdown",
   "metadata": {},
   "source": [
    "## Field Test"
   ]
  },
  {
   "cell_type": "code",
   "execution_count": null,
   "metadata": {},
   "outputs": [],
   "source": [
    "# check length\n",
    "print(f\"Ground Truth: {len(df_gt)}\")\n",
    "print(f\"Prediction: {len(df_pred)}\")"
   ]
  },
  {
   "cell_type": "code",
   "execution_count": null,
   "metadata": {},
   "outputs": [],
   "source": [
    "df_eval = df_gt.copy()\n",
    "df_eval.insert(len(df_eval.columns), 'pred', df_pred['behavior_class'])\n",
    "display(df_eval.head(10))\n",
    "df_eval = df_eval.dropna(subset=['label'])\n",
    "display(df_eval.head(10))"
   ]
  },
  {
   "cell_type": "code",
   "execution_count": null,
   "metadata": {},
   "outputs": [],
   "source": [
    "y_pred = df_eval['pred']\n",
    "y_true = df_eval['label']\n",
    "utils.calc_and_report_performance_metrics(y_true, y_pred)"
   ]
  },
  {
   "cell_type": "markdown",
   "metadata": {},
   "source": [
    "## Online Test"
   ]
  },
  {
   "cell_type": "code",
   "execution_count": null,
   "metadata": {},
   "outputs": [],
   "source": [
    "df1 = pd.read_csv(\"../data/tree-model/df_y_gt_y_pred_umineko_2024_tree_binary_2.csv\")\n",
    "y_true1, y_pred1 = df1['y_gt'], df1['y_pred']\n",
    "cm1 = confusion_matrix(y_true1, y_pred1)\n",
    "utils.calc_and_report_performance_metrics(y_true1, y_pred1)"
   ]
  },
  {
   "cell_type": "markdown",
   "metadata": {},
   "source": [
    "## Fig. S01 | Online Test & Field Test"
   ]
  },
  {
   "cell_type": "code",
   "execution_count": null,
   "metadata": {},
   "outputs": [],
   "source": [
    "GRIDSPEC_KW = {'width_ratios': [1, 1], 'wspace': 0.5, 'hspace': 0.1}\n",
    "fig, (ax1, ax2) = plt.subplots(1, 2, figsize=(16, 5), gridspec_kw=GRIDSPEC_KW)\n",
    "ax1 = utils.plot_confusion_matrix_ax(ax=ax1, cm=cm1)\n",
    "ax2 = utils.plot_confusion_matrix_ax(ax=ax2, cm=cm2)\n",
    "\n",
    "ax1.text(-0.45, -0.2, '(a)', fontsize=24, fontweight='bold', va='top', ha='right')\n",
    "ax2.text(-0.45, -0.2, '(b)', fontsize=24, fontweight='bold', va='top', ha='right')\n",
    "\n",
    "plt.show()\n",
    "plt.close()\n",
    "\n",
    "save_dir = f\"../output/figure-for-paper\"\n",
    "fig.savefig(f\"{save_dir}/png/fig_s01_confusion_matrix.png\", dpi=350, bbox_inches=\"tight\", pad_inches=0.2, transparent=False)\n",
    "fig.savefig(f\"{save_dir}/pdf/fig_s01_confusion_matrix.pdf\", dpi=600, bbox_inches=\"tight\", pad_inches=0.2, transparent=False)\n",
    "# fig.savefig(f\"{save_dir}/fig_s01_confusion_matrix.svg\", bbox_inches=\"tight\", pad_inches=0.1, transparent=False)"
   ]
  },
  {
   "cell_type": "code",
   "execution_count": null,
   "metadata": {},
   "outputs": [],
   "source": []
  }
 ],
 "metadata": {
  "kernelspec": {
   "display_name": "umineko-analysis",
   "language": "python",
   "name": "python3"
  },
  "language_info": {
   "codemirror_mode": {
    "name": "ipython",
    "version": 3
   },
   "file_extension": ".py",
   "mimetype": "text/x-python",
   "name": "python",
   "nbconvert_exporter": "python",
   "pygments_lexer": "ipython3",
   "version": "3.11.9"
  }
 },
 "nbformat": 4,
 "nbformat_minor": 2
}
