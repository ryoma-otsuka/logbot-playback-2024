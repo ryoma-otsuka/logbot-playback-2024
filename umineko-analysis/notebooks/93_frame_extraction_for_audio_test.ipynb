{
 "cells": [
  {
   "cell_type": "markdown",
   "metadata": {},
   "source": [
    "# Frame and Audio test\n",
    "Frame extraction for analyzing the timing differences between video frame and audio data "
   ]
  },
  {
   "cell_type": "code",
   "execution_count": 2,
   "metadata": {},
   "outputs": [],
   "source": [
    "import cv2\n",
    "import os\n",
    "import glob\n",
    "import numpy as np\n",
    "import pandas as pd\n",
    "from scipy.io import wavfile\n",
    "from scipy.signal import find_peaks\n",
    "import matplotlib.pyplot as plt\n",
    "import matplotlib.ticker as tck\n",
    "import seaborn as sns\n",
    "palette2 = sns.color_palette([\"#D81B60\", \"#1E88E5\", \"#FFC107\", \"#004D40\"])\n",
    "palette = palette2\n",
    "sns.set_theme(context='poster', style='ticks', palette=palette, font_scale=1.0)"
   ]
  },
  {
   "cell_type": "code",
   "execution_count": null,
   "metadata": {},
   "outputs": [],
   "source": [
    "base_dir = \"C:/Users/ryoma/D/logbot-data/umineko/Umineko2024/v5-umineko-2024-playback/v5-vid-mic-zure-test\"\n",
    "\n",
    "# Change the path appropriately\n",
    "# base_dir = \"../path_to_base_dir\""
   ]
  },
  {
   "cell_type": "code",
   "execution_count": null,
   "metadata": {},
   "outputs": [],
   "source": [
    "video_path_target = f'{base_dir}/experiment-data/*/*.avi'\n",
    "video_path_list = sorted(glob.glob(video_path_target))\n",
    "print(len(video_path_list))\n",
    "for i, video_path in enumerate(video_path_list):\n",
    "    # print(input_path)\n",
    "    dirname = os.path.dirname(video_path)\n",
    "    fname = os.path.basename(video_path).replace(\".AVI\", \"\")\n",
    "    output_dir = f\"{dirname}/{fname}\"\n",
    "    print(output_dir)"
   ]
  },
  {
   "cell_type": "markdown",
   "metadata": {},
   "source": [
    "## Frame Extraction"
   ]
  },
  {
   "cell_type": "code",
   "execution_count": null,
   "metadata": {},
   "outputs": [],
   "source": [
    "def extract_frames(video_path, output_folder):\n",
    "    # create video capture\n",
    "    cap = cv2.VideoCapture(video_path)\n",
    "    \n",
    "    # fetch the number of frames\n",
    "    total_frames = int(cap.get(cv2.CAP_PROP_FRAME_COUNT))\n",
    "    print(f'Total frames: {total_frames}')\n",
    "    \n",
    "    # create directory if not exists\n",
    "    if not os.path.exists(output_folder):\n",
    "        os.makedirs(output_folder)\n",
    "    \n",
    "    frame_count = 0\n",
    "    while True:\n",
    "        ret, frame = cap.read()\n",
    "        if not ret:\n",
    "            break\n",
    "        \n",
    "        # save the frame as png file\n",
    "        frame_filename = os.path.join(output_folder, f'frame_{frame_count:04d}.png')\n",
    "        cv2.imwrite(frame_filename, frame)\n",
    "        \n",
    "        frame_count += 1\n",
    "        if frame_count % 100 == 0:\n",
    "            print(f'Processed {frame_count} frames...')\n",
    "    \n",
    "    cap.release()\n",
    "    print('Frame extraction complete.')"
   ]
  },
  {
   "cell_type": "markdown",
   "metadata": {},
   "source": [
    "### Run"
   ]
  },
  {
   "cell_type": "code",
   "execution_count": null,
   "metadata": {},
   "outputs": [],
   "source": [
    "for i, video_path in enumerate(video_path_list[:3]):\n",
    "# for i, video_path in enumerate(video_path_list):\n",
    "    dirname = os.path.dirname(video_path)\n",
    "    fname = os.path.basename(video_path).replace(\".AVI\", \"\")\n",
    "    output_dir = f\"{dirname}/{fname}\"\n",
    "    print(output_dir)\n",
    "    # extract and save frames\n",
    "    # extract_frames(video_path, output_dir)"
   ]
  },
  {
   "cell_type": "code",
   "execution_count": null,
   "metadata": {},
   "outputs": [],
   "source": [
    "def count_image_files(directory):\n",
    "    # search .jpg or .jpeg files\n",
    "    jpg_files = glob.glob(os.path.join(directory, '*.jpg'))\n",
    "    jpeg_files = glob.glob(os.path.join(directory, '*.jpeg'))\n",
    "    png_files = glob.glob(os.path.join(directory, '*.png'))\n",
    "    \n",
    "    # count the number of files\n",
    "    n_total_files = len(jpg_files) + len(jpeg_files) + len(png_files)\n",
    "    \n",
    "    return n_total_files\n",
    "\n",
    "# Check extracted frames\n",
    "FPS = 30\n",
    "for i, video_path in enumerate(video_path_list):\n",
    "    dirname = os.path.dirname(video_path)\n",
    "    fname = os.path.basename(video_path).replace(\".AVI\", \"\")\n",
    "    output_dir = f\"{dirname}/{fname}\"\n",
    "    print(output_dir)\n",
    "    n_total_files = count_image_files(output_dir)\n",
    "    print(f\"N of total files: {n_total_files}\")\n",
    "    print(f\"Length of video data: {n_total_files/FPS:.5f}\")"
   ]
  }
 ],
 "metadata": {
  "kernelspec": {
   "display_name": "umineko-analysis-2024",
   "language": "python",
   "name": "python3"
  },
  "language_info": {
   "codemirror_mode": {
    "name": "ipython",
    "version": 3
   },
   "file_extension": ".py",
   "mimetype": "text/x-python",
   "name": "python",
   "nbconvert_exporter": "python",
   "pygments_lexer": "ipython3",
   "version": "3.11.9"
  }
 },
 "nbformat": 4,
 "nbformat_minor": 2
}
