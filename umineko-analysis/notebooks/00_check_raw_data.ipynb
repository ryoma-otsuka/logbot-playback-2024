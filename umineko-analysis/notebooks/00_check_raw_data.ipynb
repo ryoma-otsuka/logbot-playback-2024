{
 "cells": [
  {
   "attachments": {},
   "cell_type": "markdown",
   "metadata": {},
   "source": [
    "# Raw Data Check\n",
    "Check the raw data (parsed csv files) and correct recording mistakes."
   ]
  },
  {
   "cell_type": "code",
   "execution_count": null,
   "metadata": {},
   "outputs": [],
   "source": [
    "import glob\n",
    "from datetime import datetime, timedelta, timezone\n",
    "import numpy as np\n",
    "import pandas as pd\n",
    "import seaborn as sns\n",
    "from IPython.display import display\n",
    "\n",
    "import sys\n",
    "sys.path.append(\"../\") # Set parent directory to sys.path\n",
    "sys.dont_write_bytecode = True\n",
    "%load_ext autoreload\n",
    "%autoreload 2\n",
    "import src.utils as utils\n",
    "\n",
    "pd.set_option('display.max_columns', 100)\n",
    "palette = sns.color_palette(['#E69F00', '#56B4E9', '#009E73', '#F0E442', '#0072B2', '#D55E00', '#CC79A7', '#000000']) # Okabe-Ito\n",
    "sns.set_palette(palette)\n",
    "sns.set_theme(context='poster', style='ticks', palette=palette, font_scale=1.0)\n",
    "display(sns.color_palette(palette))\n",
    "\n",
    "ACC_SAMPLING_RATE = 25"
   ]
  },
  {
   "cell_type": "markdown",
   "metadata": {},
   "source": [
    "## Load data"
   ]
  },
  {
   "cell_type": "markdown",
   "metadata": {},
   "source": [
    "### Path to logdata.csv"
   ]
  },
  {
   "cell_type": "code",
   "execution_count": null,
   "metadata": {},
   "outputs": [],
   "source": [
    "# Raw data directory\n",
    "base_dir = \"C:/Users/ryoma/D/logbot-data/umineko/Umineko2024\"\n",
    "# base_dir = \"../path_to_base_dir\" # Change the path appropriately\n",
    "test_dir = \"v5-umineko-2024-playback\"\n",
    "\n",
    "test_id = \"LBP00\"\n",
    "# test_id = \"LBP01\"\n",
    "# test_id = \"LBP02\" # no video data\n",
    "# test_id = \"LBP03\"\n",
    "# test_id = \"LBP04\" # no video data\n",
    "# test_id = \"LBP05\"\n",
    "# test_id = \"LBP06\"\n",
    "# test_id = \"LBP07\"\n",
    "# test_id = \"LBP08\"\n",
    "# test_id = \"LBP09\"\n",
    "\n",
    "# print(\"Select test id: e.g. 0 -> LB00, 1 -> LB01, ..., 12 -> LB12\")\n",
    "# test_id = f\"LBP{input().zfill(2)}\"\n",
    "\n",
    "print(f\"test_id: {test_id}\")"
   ]
  },
  {
   "cell_type": "code",
   "execution_count": null,
   "metadata": {},
   "outputs": [],
   "source": [
    "utils.scan_raw_data_dir(base_dir, test_dir, test_id)"
   ]
  },
  {
   "cell_type": "markdown",
   "metadata": {},
   "source": [
    "### Load the logdata.csv"
   ]
  },
  {
   "cell_type": "code",
   "execution_count": null,
   "metadata": {},
   "outputs": [],
   "source": [
    "target_path = f\"{base_dir}/{test_dir}/{test_id}*/logdata/logdata.csv\"\n",
    "print(f\"target_path:\\n{target_path}\")\n",
    "path = glob.glob(target_path)[0]\n",
    "print(f\"csv_file_path:\\n{path}\")\n",
    "df = utils.load_logdata_csv_file(path, ACC_SAMPLING_RATE)"
   ]
  },
  {
   "cell_type": "markdown",
   "metadata": {},
   "source": [
    "## Correct raw data"
   ]
  },
  {
   "cell_type": "markdown",
   "metadata": {},
   "source": [
    "### Correct camera_count\n",
    "To save battery consumption, the logger goes to sleep (turned off) during nighttime and restarts in the morning. When the logger restarts, the program initializes all global variables including camera_count. We should correct the camera_count data considering this issue. This issue could be handled by saving camera_count data before the logger goes to sleep mode and loads the data after rebooting; we implemented this feature after the field experiment in 2024. "
   ]
  },
  {
   "cell_type": "code",
   "execution_count": null,
   "metadata": {},
   "outputs": [],
   "source": [
    "# check camera_count data\n",
    "utils.count_camera_recording_and_playback_sessions(df)"
   ]
  },
  {
   "cell_type": "code",
   "execution_count": null,
   "metadata": {},
   "outputs": [],
   "source": [
    "# Correct camera_count\n",
    "df = utils.correct_camera_count(df, ACC_SAMPLING_RATE, show_head_tail=False, test_id=test_id)"
   ]
  },
  {
   "cell_type": "code",
   "execution_count": null,
   "metadata": {},
   "outputs": [],
   "source": [
    "# check camera_count data\n",
    "utils.count_camera_recording_and_playback_sessions(df)"
   ]
  },
  {
   "cell_type": "markdown",
   "metadata": {},
   "source": [
    "### Delete unwanted data\n",
    "\n",
    "There were cases where logging continued after retrieval (recapturing the bird) because the battery still had remaining power.\n",
    "In such cases:\n",
    "1. Fetch the retrieval time in JST from the metadata file.\n",
    "2. Set the time 10 minutes before the retrieval time (JST) as the target time. (subtracting 10 minutes adds an extra safety margin).\n",
    "3. Convert the target JST time into UTC time\n",
    "4. Obtain the index corresponding to the target time.\n",
    "5. Delete all data from the target time index onward."
   ]
  },
  {
   "cell_type": "code",
   "execution_count": null,
   "metadata": {},
   "outputs": [],
   "source": [
    "metadata_path = \"../data/metadata/recapture_time.csv\"\n",
    "df_meta = pd.read_csv(metadata_path)\n",
    "display(df_meta)"
   ]
  },
  {
   "cell_type": "code",
   "execution_count": null,
   "metadata": {},
   "outputs": [],
   "source": [
    "idx = df_meta[df_meta['test_id'] == test_id].index\n",
    "# idx = df_meta[df_meta['test_id'] == \"LBP07\"].index\n",
    "recapture_date_jst = df_meta.loc[idx, 'recapture_date_jst'].values[0]\n",
    "recapture_time_jst = df_meta.loc[idx, 'recapture_time_jst'].values[0]\n",
    "print(idx)\n",
    "print(recapture_date_jst)\n",
    "print(recapture_time_jst)\n",
    "\n",
    "jst_timezone = timezone(timedelta(hours=+9))  # JST timezone object \n",
    "utc_timezone = timezone.utc  # UTC timezone object\n",
    "\n",
    "# 1. fetch the retrieval time (JST) from the metadata file\n",
    "recapture_timestamp_str = f\"{recapture_date_jst} {recapture_time_jst}\"\n",
    "recapture_timestamp = datetime.strptime(recapture_timestamp_str, '%d/%m/%Y %H:%M:%S')\n",
    "recapture_timestamp_jst = recapture_timestamp.replace(tzinfo=jst_timezone)  # set JST timezone\n",
    "\n",
    "# 2. timestamp of 10 minutes before the retrieval time\n",
    "delta_t_min = 10\n",
    "timestamp_jst = recapture_timestamp_jst - timedelta(minutes=delta_t_min)\n",
    "\n",
    "# 3. convert JST to UTC\n",
    "timestamp_utc = timestamp_jst.astimezone(utc_timezone)\n",
    "\n",
    "# 4. separated data\n",
    "year = timestamp_utc.year\n",
    "month = timestamp_utc.month\n",
    "day = timestamp_utc.day\n",
    "hour = timestamp_utc.hour\n",
    "minute = timestamp_utc.minute\n",
    "second = timestamp_utc.second\n",
    "\n",
    "# Print the results\n",
    "print(f\"1. collection datetime (JST): {recapture_timestamp_jst}\")\n",
    "print(f\"2. collection datetime - {delta_t_min} min (JST): {timestamp_jst}\")\n",
    "print(f\"3. collection datetime - {delta_t_min} min (UTC): {timestamp_utc}\")\n",
    "print(f\"4. UTC target time:\")\n",
    "print(\"   - Year:\", year)\n",
    "print(\"   - Month:\", month)\n",
    "print(\"   - Day:\", day)\n",
    "print(\"   - Hour:\", hour)\n",
    "print(\"   - Minute:\", minute)\n",
    "print(\"   - Second:\", second)\n",
    "\n"
   ]
  },
  {
   "cell_type": "code",
   "execution_count": null,
   "metadata": {},
   "outputs": [],
   "source": [
    "unwanted_first_index = df[\n",
    "    (df['rtc_year'] == year) & (df['rtc_month'] == month) & (df['rtc_day'] == day) &\n",
    "    (df['rtc_hour'] == hour) & (df['rtc_min'] == minute) & (df['rtc_sec'] == second) &\n",
    "    (df['rtc_msec'] == 0)\n",
    "].index\n",
    "print(len(unwanted_first_index))\n",
    "print(unwanted_first_index)\n",
    "\n",
    "if len(unwanted_first_index) > 0:\n",
    "    print(unwanted_first_index[0])\n",
    "    df = df[:unwanted_first_index[0]] # remove unwanted data"
   ]
  },
  {
   "cell_type": "markdown",
   "metadata": {},
   "source": [
    "## Correct duplicated RTC timestamps\n",
    "\n",
    "There are cases where the RTC time overlapped.  \n",
    "Data with the exact same timestamp appeared in the csv file.  \n",
    "(e.g., measurement or logging error at timing transitions, such as when the minute changes.)  \n",
    "Here, we handle such cases."
   ]
  },
  {
   "cell_type": "code",
   "execution_count": null,
   "metadata": {},
   "outputs": [],
   "source": [
    "# A UTC, JST, unixtime columns to dataframe\n",
    "df_time = utils.rtc_data_time_to_timestamp_and_unixtime(df)\n",
    "display(df_time.head(3))\n",
    "df_time['rtc_year'].isna().sum()\n",
    "\n",
    "# First, check how often RTC time duplication occurred during video recording\n",
    "duplicated_list, duplicated_index_list = utils.check_duplicated_timestamp(df_time)\n",
    "df_time_cam_rec = df_time[ (df_time['camera_command'] == 1) | (df_time['camera_recording'] == 1)]\n",
    "duplicated_list2, duplicated_index_list2 = utils.check_duplicated_timestamp(df_time_cam_rec)\n",
    "if len(duplicated_index_list2) > 0: \n",
    "    print(duplicated_index_list2)\n",
    "\n",
    "# Exception handler\n",
    "# If RTC time duplication occurred during video recording, \n",
    "# -> correct the data using the below exception handler\n",
    "if np.sum(duplicated_list2) > 0:\n",
    "    print(\"Exception handler\")\n",
    "    # print(duplicated_list)\n",
    "    if test_id == \"LBP03\":\n",
    "        # search UTC 19:54:00\n",
    "        indices = df_time.query('rtc_hour == 19 and rtc_min == 54 and rtc_sec == 0').index\n",
    "        print(indices)\n",
    "        print(len(indices))\n",
    "        for index in indices[25:]:\n",
    "            df_time.loc[index, 'rtc_min'] = 55\n",
    "        print(f\"test_id: {test_id} exception corrected\")\n",
    "\n",
    "        # UTC 19:55:42\n",
    "        indices = df_time.query('rtc_hour == 19 and rtc_min == 55 and rtc_sec == 42').index\n",
    "        correct_start_idx = indices[25]\n",
    "\n",
    "        indices = df_time.query('rtc_hour == 19 and rtc_min == 56 and rtc_sec == 54').index\n",
    "        correct_end_idx = indices[-1] + 1 # add 1 to the last data index of LBP03_S00\n",
    "\n",
    "        replace_start_index = correct_start_idx + ACC_SAMPLING_RATE\n",
    "        replace_end_index = correct_end_idx + ACC_SAMPLING_RATE\n",
    "\n",
    "        for col in ['rtc_year', 'rtc_month', 'rtc_day', 'rtc_hour', 'rtc_min', 'rtc_sec','rtc_msec',]:\n",
    "            df_time.loc[correct_start_idx:correct_end_idx, col] = df_time.loc[replace_start_index:replace_end_index, col].values\n",
    "\n",
    "    # Update the timestamp again, and obtain duplicated_index_list for check the results\n",
    "    df_time = utils.rtc_data_time_to_timestamp_and_unixtime(df_time)\n",
    "    duplicated_list, duplicated_index_list = utils.check_duplicated_timestamp(df_time)\n",
    "\n",
    "# RTC time duplication outside of video recording is not relevant to data analysis.\n",
    "# Therefore, simply drop the second occurrence of the duplicate.\n",
    "print(\"Simply drop duplicated rows\")\n",
    "df = utils.drop_duplicated_timestamp(df_time, duplicated_index_list)"
   ]
  },
  {
   "cell_type": "code",
   "execution_count": null,
   "metadata": {},
   "outputs": [],
   "source": [
    "duplicated_list, duplicated_index_list = utils.check_duplicated_timestamp(df)"
   ]
  },
  {
   "cell_type": "markdown",
   "metadata": {},
   "source": [
    "## Save the corrected df"
   ]
  },
  {
   "cell_type": "code",
   "execution_count": null,
   "metadata": {},
   "outputs": [],
   "source": [
    "save_dir = \"../data/corrected-raw-data\"\n",
    "save_path = f\"{save_dir}/{test_id}.csv\"\n",
    "print(save_path)\n",
    "# df.to_csv(save_path, index=False)"
   ]
  },
  {
   "cell_type": "markdown",
   "metadata": {},
   "source": [
    "# Corrected Data Check"
   ]
  },
  {
   "cell_type": "code",
   "execution_count": null,
   "metadata": {},
   "outputs": [],
   "source": [
    "input_dir = \"../data/corrected-raw-data\"\n",
    "\n",
    "test_id = \"LBP00\"\n",
    "# test_id = \"LBP01\"\n",
    "# test_id = \"LBP02\" # no video data\n",
    "# test_id = \"LBP03\"\n",
    "# test_id = \"LBP04\" # no video data\n",
    "# test_id = \"LBP05\"\n",
    "# test_id = \"LBP06\"\n",
    "# test_id = \"LBP07\"\n",
    "# test_id = \"LBP08\"\n",
    "# test_id = \"LBP09\"\n",
    "\n",
    "input_path = f\"{save_dir}/{test_id}.csv\"\n",
    "df = pd.read_csv(input_path)"
   ]
  },
  {
   "cell_type": "code",
   "execution_count": null,
   "metadata": {},
   "outputs": [],
   "source": [
    "display(df.head(5))\n",
    "display(df.tail(5))"
   ]
  },
  {
   "cell_type": "markdown",
   "metadata": {},
   "source": [
    "## Battery levels"
   ]
  },
  {
   "cell_type": "code",
   "execution_count": null,
   "metadata": {},
   "outputs": [],
   "source": [
    "print(len(df))\n",
    "\n",
    "df_battery = df[ (df[\"rtc_sec\"] == 0) & (df[\"rtc_msec\"] == 0) ]\n",
    "print(len(df_battery))"
   ]
  },
  {
   "cell_type": "code",
   "execution_count": null,
   "metadata": {},
   "outputs": [],
   "source": [
    "fig = utils.plot_battery_level(df)"
   ]
  },
  {
   "cell_type": "markdown",
   "metadata": {},
   "source": [
    "## SD write time delay check "
   ]
  },
  {
   "cell_type": "code",
   "execution_count": null,
   "metadata": {},
   "outputs": [],
   "source": [
    "# SD write delay \n",
    "# fig = utils.plot_sd_write_time(df, \"boxplot\")\n",
    "fig = utils.plot_sd_write_time(df, \"scatter\")\n",
    "utils.sd_write_delay_check(df)"
   ]
  },
  {
   "attachments": {},
   "cell_type": "markdown",
   "metadata": {},
   "source": [
    "## RTC and GPS time check\n",
    "Check the discrepancy between RTC time and time based on GPS data."
   ]
  },
  {
   "cell_type": "code",
   "execution_count": null,
   "metadata": {},
   "outputs": [],
   "source": [
    "# check gap between rtc time and gps time\n",
    "fig = utils.plot_rtc_and_gps_data_gap(df)"
   ]
  },
  {
   "cell_type": "code",
   "execution_count": null,
   "metadata": {},
   "outputs": [],
   "source": []
  }
 ],
 "metadata": {
  "kernelspec": {
   "display_name": "Python 3 (ipykernel)",
   "language": "python",
   "name": "python3"
  },
  "language_info": {
   "codemirror_mode": {
    "name": "ipython",
    "version": 3
   },
   "file_extension": ".py",
   "mimetype": "text/x-python",
   "name": "python",
   "nbconvert_exporter": "python",
   "pygments_lexer": "ipython3",
   "version": "3.11.9"
  },
  "vscode": {
   "interpreter": {
    "hash": "9f16aeee9dd203c564fa426f6e5915d3fbcff8cd675a1dd8b2b6b88d205cd330"
   }
  }
 },
 "nbformat": 4,
 "nbformat_minor": 2
}
