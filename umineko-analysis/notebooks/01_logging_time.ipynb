{
 "cells": [
  {
   "cell_type": "markdown",
   "metadata": {},
   "source": [
    "# Logging time"
   ]
  },
  {
   "cell_type": "code",
   "execution_count": null,
   "metadata": {},
   "outputs": [],
   "source": [
    "import os\n",
    "import glob\n",
    "import pandas as pd"
   ]
  },
  {
   "cell_type": "code",
   "execution_count": null,
   "metadata": {},
   "outputs": [],
   "source": [
    "test_id_list = [\n",
    "    \"LBP00\", \n",
    "    \"LBP01\",\n",
    "    \"LBP02\",\n",
    "    \"LBP03\",\n",
    "    \"LBP04\",\n",
    "    \"LBP05\",\n",
    "    \"LBP06\",\n",
    "    \"LBP07\",\n",
    "    \"LBP08\",\n",
    "    \"LBP09\",\n",
    "]\n",
    "\n",
    "use_columns = [\n",
    "    'unixtime', 'datetime_utc', 'datetime_jst',\n",
    "    'rtc_year', 'rtc_month', 'rtc_day', \n",
    "    'rtc_hour', 'rtc_min', 'rtc_sec','rtc_msec', \n",
    "]"
   ]
  },
  {
   "cell_type": "code",
   "execution_count": null,
   "metadata": {},
   "outputs": [],
   "source": [
    "# Use this if you want to extract all data you collected\n",
    "base_dir = f\"../data/corrected-raw-data\" # check the directory path\n",
    "target_path = f\"{base_dir}/*.csv\"\n",
    "print(target_path)\n",
    "input_path_list = sorted(glob.glob(target_path))\n",
    "for i, input_path in enumerate(input_path_list):\n",
    "    print(f\"{i:0=3}: {input_path}\")"
   ]
  },
  {
   "cell_type": "code",
   "execution_count": null,
   "metadata": {},
   "outputs": [],
   "source": [
    "hours_list = []\n",
    "for i, input_path in enumerate(input_path_list):\n",
    "    print(f\"input path {i:0=4}: {input_path}\")\n",
    "    test_id = os.path.basename(input_path).replace(\".csv\", \"\")\n",
    "    if test_id not in test_id_list:\n",
    "        print(f\"skipped {test_id}\")\n",
    "        hours = 0\n",
    "    else:\n",
    "        df = pd.read_csv(input_path)\n",
    "        print(len(df))\n",
    "        hours = len(df)/60/60/25\n",
    "    print(f\"logging time (h): {hours:.2f}\")\n",
    "    hours_list.append(hours)"
   ]
  },
  {
   "cell_type": "code",
   "execution_count": null,
   "metadata": {},
   "outputs": [],
   "source": [
    "data_dict = {'test_id': test_id_list, 'logging_time_h': hours_list}\n",
    "df_time = pd.DataFrame(data_dict)\n",
    "display(df_time)"
   ]
  },
  {
   "cell_type": "code",
   "execution_count": null,
   "metadata": {},
   "outputs": [],
   "source": []
  }
 ],
 "metadata": {
  "kernelspec": {
   "display_name": "umineko-analysis-2024",
   "language": "python",
   "name": "python3"
  },
  "language_info": {
   "codemirror_mode": {
    "name": "ipython",
    "version": 3
   },
   "file_extension": ".py",
   "mimetype": "text/x-python",
   "name": "python",
   "nbconvert_exporter": "python",
   "pygments_lexer": "ipython3",
   "version": "3.11.9"
  }
 },
 "nbformat": 4,
 "nbformat_minor": 2
}
