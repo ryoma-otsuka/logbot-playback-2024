{
 "cells": [
  {
   "cell_type": "markdown",
   "metadata": {},
   "source": [
    "# Randomly select images for annotation"
   ]
  },
  {
   "cell_type": "code",
   "execution_count": null,
   "metadata": {},
   "outputs": [],
   "source": [
    "import os\n",
    "import numpy as np\n",
    "import random\n",
    "import glob\n",
    "import shutil"
   ]
  },
  {
   "cell_type": "code",
   "execution_count": null,
   "metadata": {},
   "outputs": [],
   "source": [
    "SAVE_DIR = f\"C:/Users/ryoma/Desktop/yolo/data/extracted-frames/umineko-2024/\"\n",
    "COPY_DIR = f\"C:/Users/ryoma/Desktop/yolo/data/randomly-selected-for-annotation/umineko-2024\"\n",
    "\n",
    "# Change the path appropriately\n",
    "# SAVE_DIR = f\"C:/Users/username/path_to_save_dir/\"\n",
    "# COPY_DIR = f\"C:/Users/username/path_to_copy_dir/\""
   ]
  },
  {
   "cell_type": "code",
   "execution_count": null,
   "metadata": {},
   "outputs": [],
   "source": [
    "target_dir_path = f\"{SAVE_DIR}/*/*/\"\n",
    "print(target_dir_path)\n",
    "target_dir_path_list = sorted(glob.glob(target_dir_path))\n",
    "print(len(target_dir_path_list))\n",
    "for i, target_dir_path in enumerate(target_dir_path_list):\n",
    "    print(f\"{i:03}: {target_dir_path}\")"
   ]
  },
  {
   "cell_type": "code",
   "execution_count": null,
   "metadata": {},
   "outputs": [],
   "source": [
    "np.random.seed(558)\n",
    "random.seed(558)\n",
    "\n",
    "num_files = 20\n",
    "num_files2 = 20 # LBP06\n",
    "cnt = 0\n",
    "for i, target_dir_path in enumerate(target_dir_path_list):\n",
    "    \n",
    "    file_name_base = os.path.basename(os.path.dirname(target_dir_path))\n",
    "    print(f\"file_name_base: {file_name_base}\")\n",
    "    if \"LBP06_S\" in file_name_base:\n",
    "        _num_files = num_files2\n",
    "    else:\n",
    "        _num_files = num_files\n",
    "    jpg_files = sorted(glob.glob(os.path.join(target_dir_path, '*.jpg')))\n",
    "    print(f\"{file_name_base}: Num files = {len(jpg_files)}\")\n",
    "    indices = list(range(len(jpg_files)))\n",
    "    selected_indices = sorted(random.sample(indices, _num_files))\n",
    "    print(f\"selected_indices: {selected_indices}\")\n",
    "    if len(selected_indices) > 0: \n",
    "        cnt += 1\n",
    "\n",
    "    # Copy and paste the selected images (uncomment to overwrite)\n",
    "    # copy_dir = f\"{COPY_DIR}/{file_name_base}\"\n",
    "    # copy_dir = f\"{COPY_DIR}\"\n",
    "    # if not os.path.exists(copy_dir):\n",
    "    #     os.makedirs(copy_dir)\n",
    "\n",
    "    # for index in selected_indices:\n",
    "    #     file = jpg_files[index]\n",
    "    #     shutil.copy(file, copy_dir)\n",
    "print(f\"N of videos used: {cnt}\")"
   ]
  },
  {
   "cell_type": "markdown",
   "metadata": {},
   "source": [
    "## Count manually selected images"
   ]
  },
  {
   "cell_type": "code",
   "execution_count": null,
   "metadata": {},
   "outputs": [],
   "source": [
    "target_path = \"C:/Users/ryoma/Desktop/yolo/data/randomly-selected-for-annotation/umineko-2024/*.jpg\" # Change the path appropriately\n",
    "file_path_list = sorted(glob.glob(target_path))\n",
    "print(len(file_path_list))"
   ]
  },
  {
   "cell_type": "code",
   "execution_count": null,
   "metadata": {},
   "outputs": [],
   "source": [
    "# prev_file_basename = \"lbp00_s00\"\n",
    "# counter = 0\n",
    "# for i, file_path in enumerate(file_path_list):\n",
    "#     counter += 1\n",
    "#     file_basename = os.path.basename(file_path)[:9]\n",
    "#     if file_basename != prev_file_basename or i == len(file_path_list) - 1:\n",
    "#         print(f\"{prev_file_basename}: {counter - 1}\")\n",
    "#         prev_file_basename = file_basename\n",
    "#         counter = 1"
   ]
  },
  {
   "cell_type": "markdown",
   "metadata": {},
   "source": [
    "## Count manually selected images"
   ]
  },
  {
   "cell_type": "code",
   "execution_count": null,
   "metadata": {},
   "outputs": [],
   "source": [
    "target_path = \"C:/Users/ryoma/Desktop/yolo/data/manually-selected-for-annotation/*/*.jpg\" # Change the path appropriately\n",
    "file_path_list = sorted(glob.glob(target_path))\n",
    "print(len(file_path_list))"
   ]
  },
  {
   "cell_type": "code",
   "execution_count": null,
   "metadata": {},
   "outputs": [],
   "source": [
    "# prev_file_basename = \"lbp00_s00\"\n",
    "# counter = 0\n",
    "# for i, file_path in enumerate(file_path_list):\n",
    "#     counter += 1\n",
    "#     file_basename = os.path.basename(file_path)[:9]\n",
    "#     if file_basename != prev_file_basename or i == len(file_path_list) - 1:\n",
    "#         print(f\"{prev_file_basename}: {counter - 1}\")\n",
    "#         prev_file_basename = file_basename\n",
    "#         counter = 1"
   ]
  },
  {
   "cell_type": "code",
   "execution_count": null,
   "metadata": {},
   "outputs": [],
   "source": [
    "print(1320 + 1950) # 3270\n",
    "# Note that the 3,245 (a little bit fewer) frames were annotated using Roboflow. \n"
   ]
  }
 ],
 "metadata": {
  "kernelspec": {
   "display_name": "yamaneko-analysis",
   "language": "python",
   "name": "python3"
  },
  "language_info": {
   "codemirror_mode": {
    "name": "ipython",
    "version": 3
   },
   "file_extension": ".py",
   "mimetype": "text/x-python",
   "name": "python",
   "nbconvert_exporter": "python",
   "pygments_lexer": "ipython3",
   "version": "3.11.9"
  }
 },
 "nbformat": 4,
 "nbformat_minor": 2
}
