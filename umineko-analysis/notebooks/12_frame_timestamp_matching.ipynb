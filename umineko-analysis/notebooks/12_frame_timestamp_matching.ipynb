{
 "cells": [
  {
   "cell_type": "markdown",
   "metadata": {},
   "source": [
    "# Video frame and timestamp matching\n",
    "\n",
    "The actual video recording starts a few seconds after the logging data's video recording start timing (the second the command was issued). This is because it takes some time for the logger's camera module to start actual video recording after receiving the command. This delay after sending the video recording start command must be considered to adjust the timestamp."
   ]
  },
  {
   "cell_type": "code",
   "execution_count": null,
   "metadata": {},
   "outputs": [],
   "source": [
    "import os\n",
    "import glob\n",
    "import numpy as np\n",
    "import pandas as pd\n",
    "import matplotlib.pyplot as plt\n",
    "import seaborn as sns\n",
    "\n",
    "import sys\n",
    "sys.path.append(\"../\") # Set parent directory to sys.path\n",
    "sys.dont_write_bytecode = True\n",
    "%load_ext autoreload\n",
    "%autoreload 2\n",
    "import src.utils as utils\n",
    "\n",
    "palette5 = sns.color_palette([\"#888888\", \"#D81B60\", \"#1E88E5\", \"#FFC107\", \"#004D40\"])\n",
    "palette2 = sns.color_palette([\"#D81B60\", \"#1E88E5\", \"#FFC107\", \"#004D40\"])\n",
    "palette = palette2\n",
    "display(palette)\n",
    "sns.set_theme(context='poster', style='ticks', palette=palette, font_scale=1.0)"
   ]
  },
  {
   "cell_type": "markdown",
   "metadata": {},
   "source": [
    "## Config"
   ]
  },
  {
   "cell_type": "code",
   "execution_count": null,
   "metadata": {},
   "outputs": [],
   "source": [
    "FPS = 30\n",
    "REC_SEC = 185\n",
    "REC_SEC_SHORT = 126\n",
    "\n",
    "# Shift mode\n",
    "# shift_mode = 0 # no shift\n",
    "shift_mode = 1 # simply shift by the amount of frame_diff\n",
    "\n",
    "OFFSET = 3 # 3 ( < 3.6) frames, 99.99 ms which is close to 120 ms (200 - 80 ms)\n",
    "EXP_TOTAL_FRAMES = FPS * REC_SEC + OFFSET\n",
    "EXP_TOTAL_FRAMES_SHORT = FPS * REC_SEC_SHORT + OFFSET\n",
    "START_SHIFT_ROWS = 0\n",
    "\n",
    "# OFFSET = 4 # 4 ( > 3.6) frames, 133.32 ms which is close to 120 ms (200 - 80 ms)\n",
    "# EXP_TOTAL_FRAMES = FPS * REC_SEC + OFFSET\n",
    "# EXP_TOTAL_FRAMES_SHORT = FPS * REC_SEC_SHORT + OFFSET\n",
    "# START_SHIFT_ROWS = 0\n",
    "\n",
    "target_path = \"../data/umineko-2024-v8i-yolov8/predicted-data/*.csv\"\n",
    "path_list = sorted(glob.glob(target_path))\n",
    "print(f\"len(path_list): {len(path_list)}\")"
   ]
  },
  {
   "cell_type": "markdown",
   "metadata": {},
   "source": [
    "## Add timestamp to 30 FPS frame data"
   ]
  },
  {
   "cell_type": "code",
   "execution_count": null,
   "metadata": {},
   "outputs": [],
   "source": [
    "start_shift_rows = START_SHIFT_ROWS\n",
    "\n",
    "path_list = sorted(glob.glob(target_path))\n",
    "# print(len(path_list))\n",
    "\n",
    "for i, path in enumerate(path_list):\n",
    "# for i, path in enumerate(path_list[0:7]):\n",
    "# for i, path in enumerate(path_list[7:8]): # LBP03 S00 for debug\n",
    "    df_frames = pd.read_csv(path)\n",
    "    test_id = os.path.basename(path)[:5]\n",
    "    session_id = os.path.basename(path).replace(\".csv\", \"\")\n",
    "    print(f\"{test_id} | {session_id}\")\n",
    "    if session_id in [\"LBP01_S03\"]:\n",
    "        continue # skip\n",
    "    gps_data_path = f\"../data/extracted-gps-data/{test_id}/{session_id}.csv\"\n",
    "    # print(gps_data_path)\n",
    "    df_gps = pd.read_csv(gps_data_path)\n",
    "    gps_colnames = [\n",
    "        'datetime_jst', 'speed_distance_km_h', 'abs_diff_distance_m', \n",
    "        'camera_command', 'camera_recording', 'speaker_on'\n",
    "    ]\n",
    "    df_gps = df_gps[gps_colnames]\n",
    "    # print(len(df_frames))\n",
    "    # print(len(df_frames)/30)\n",
    "    # print(len(df_gps))\n",
    "    # display(df_gps.head(2))\n",
    "    # display(df_gps.tail(2))\n",
    "\n",
    "    # 1 Hz timestamp to 30 FPS timestamp\n",
    "    df_gps_with_empty_rows = utils.insert_empty_rows(df_gps, FPS - 1)\n",
    "    # print(len(df_gps_with_empty_rows))\n",
    "    # display(df_gps_with_empty_rows.head(32))\n",
    "    df_gps_filled = df_gps_with_empty_rows.ffill()\n",
    "    # display(df_gps_filled.head(32))\n",
    "    \n",
    "    # adjust timestamp\n",
    "    frame_diff = EXP_TOTAL_FRAMES - len(df_frames)\n",
    "    if session_id in [\"LBP06_S04\"]:\n",
    "        frame_diff = 78 # use the median value for LBP06 S04 (see fig_s07_frame_diff_test.ipynb)\n",
    "    delay_ms = frame_diff / 30 * 1000\n",
    "    delay_s = delay_ms / 1000\n",
    "    print(f\"EXP_TOTAL_FRAMES: {EXP_TOTAL_FRAMES}\")\n",
    "    print(f\"frame diff: {frame_diff}\")\n",
    "    print(f\"delay based on frame diff: {delay_ms:.2f} (ms)\")\n",
    "    print(f\"delay based on frame diff: {delay_s:.2f} (s)\")\n",
    "    print(f\"len(df_gps_filled): {len(df_gps_filled)}\") # should be 5550 (185 sec * 30 FPS)\n",
    "\n",
    "    df_gps_filled = df_gps_filled[start_shift_rows:]\n",
    "    print(f\"len(df_gps_filled): {len(df_gps_filled)}\")\n",
    "    idx = utils.get_speaker_turn_on_idx(df_gps_filled)\n",
    "    print(f\"idx: {idx}\")\n",
    "\n",
    "    if shift_mode == 1:\n",
    "        _df_gps = df_gps_filled[frame_diff:]\n",
    "        # print(len(_df_gps))\n",
    "    _df_gps.reset_index(drop=True, inplace=True)\n",
    "    print(f\"len(df_frames): {len(df_frames)}\")\n",
    "    print(f\"len(_df_gps): {len(_df_gps)}\") \n",
    "\n",
    "    # Adjust the dataframe length | data near the end of recording are not needed for data analysis\n",
    "    if len(_df_gps) > len(df_frames):\n",
    "        _df_gps = _df_gps[:len(df_frames)]\n",
    "    \n",
    "    if len(df_frames) > len(_df_gps):\n",
    "        df_frames = df_frames[:len(_df_gps)]\n",
    "\n",
    "    print(f\"len(df_frames): {len(df_frames)}\")\n",
    "    print(f\"len(_df_gps): {len(_df_gps)}\")\n",
    "\n",
    "    # rename columns | absdiff -> abs_diff\n",
    "    # NOTE: original column names \n",
    "    # ['pixel_count', 'absdiff_pixel_count', 'pixel_count_p', 'absdiff_pixel_count_p']\n",
    "    df_frames.columns = [\n",
    "        'pixel_count', 'abs_diff_pixel_count',\n",
    "        'pixel_count_p', 'abs_diff_pixel_count_p'\n",
    "    ]\n",
    "\n",
    "    # Concat dataframes\n",
    "    df = pd.concat([df_frames, _df_gps], axis=1)\n",
    "    df.reset_index(drop=True, inplace=True)\n",
    "    idx = utils.get_speaker_turn_on_idx(df)\n",
    "    print(f\"idx: {idx}\")\n",
    "    program_index = np.arange(1, len(df)+1, 1)\n",
    "    _program_index = program_index - idx -1\n",
    "    df.insert(0, 'program_index', program_index)\n",
    "    df.insert(0, '_program_index', _program_index)\n",
    "    display(df[idx-3:idx+3])\n",
    "    \n",
    "    if shift_mode == 1:\n",
    "        save_dir = f\"../data/umineko-2024-v8i-yolov8/offset-{OFFSET:02d}-start-shift-{start_shift_rows}\"\n",
    "    else:\n",
    "        save_dir = f\"../data/umineko-2024-v8i-yolov8/no-shift\"\n",
    "    os.makedirs(save_dir, exist_ok=True)\n",
    "    save_path = f\"{save_dir}/{session_id}.csv\"\n",
    "    df.to_csv(save_path, index=False)"
   ]
  },
  {
   "cell_type": "code",
   "execution_count": null,
   "metadata": {},
   "outputs": [],
   "source": []
  },
  {
   "cell_type": "markdown",
   "metadata": {},
   "source": [
    "## Shift simulation"
   ]
  },
  {
   "cell_type": "code",
   "execution_count": null,
   "metadata": {},
   "outputs": [],
   "source": [
    "# Conduct an experiment with an extreme example\n",
    "\n",
    "fps = 30\n",
    "recording_sec = 10\n",
    "\n",
    "start_delay_sec = 80 / 1000\n",
    "stop_delay_sec = 200 / 1000\n",
    "\n",
    "total_recording_sec = recording_sec - start_delay_sec + stop_delay_sec\n",
    "print(total_recording_sec)\n",
    "\n",
    "expected_total_frames = int(fps * total_recording_sec)\n",
    "print(expected_total_frames) # 303 frames"
   ]
  },
  {
   "cell_type": "code",
   "execution_count": null,
   "metadata": {},
   "outputs": [],
   "source": [
    "# Assume there is exactly a 2-second delay before the video recording starts\n",
    "delay_sec = 2\n",
    "delay_frames = int(fps * delay_sec)\n",
    "print(delay_frames)\n",
    "actual_total_frames = expected_total_frames - delay_frames\n",
    "print(actual_total_frames)"
   ]
  },
  {
   "cell_type": "code",
   "execution_count": null,
   "metadata": {},
   "outputs": [],
   "source": [
    "video_rec_indices_0 = np.arange(0, expected_total_frames, 1) # without delay\n",
    "video_rec_indices_1 = np.arange(0, expected_total_frames - delay_frames, 1) # with delay\n",
    "simulated_data = np.zeros(len(video_rec_indices_1))\n",
    "intervention_index = 150 # true playback timing\n",
    "spike_index_0 = intervention_index + int(FPS/2) # spike shortly after the playback\n",
    "spike_index_1 = spike_index_0 - delay_frames\n",
    "simulated_data[spike_index_1] = 1\n",
    "print(len(video_rec_indices_0))\n",
    "print(len(video_rec_indices_1))"
   ]
  },
  {
   "cell_type": "markdown",
   "metadata": {},
   "source": [
    "### w/o shifting"
   ]
  },
  {
   "cell_type": "code",
   "execution_count": null,
   "metadata": {},
   "outputs": [],
   "source": [
    "fig, ax = plt.subplots(1, 1, figsize=(12, 3))\n",
    "ax.plot(video_rec_indices_1, simulated_data)\n",
    "ax.axvline(x=intervention_index, color=\"#333333\", linestyle=\"--\")\n",
    "ax.axvspan(xmin=intervention_index, xmax=intervention_index+30, color=\"#333333\", alpha=0.1)\n",
    "ax.set_yticks(np.arange(-1, 2, 1))\n",
    "ax.set_xlim(0 -10, 300 + 10)\n",
    "ax.set_ylim(-0.2, 1.2)\n",
    "ax.grid()"
   ]
  },
  {
   "cell_type": "markdown",
   "metadata": {},
   "source": [
    "### w/ shiting"
   ]
  },
  {
   "cell_type": "code",
   "execution_count": null,
   "metadata": {},
   "outputs": [],
   "source": [
    "video_rec_indices_1_shifted = video_rec_indices_1 + delay_frames\n",
    "print(video_rec_indices_1_shifted)\n",
    "video_rec_indices_1_shifted = video_rec_indices_0[delay_frames:]\n",
    "print(video_rec_indices_1_shifted)"
   ]
  },
  {
   "cell_type": "code",
   "execution_count": null,
   "metadata": {},
   "outputs": [],
   "source": [
    "fig, ax = plt.subplots(1, 1, figsize=(12, 3))\n",
    "ax.plot(video_rec_indices_1_shifted, simulated_data)\n",
    "ax.axvline(x=intervention_index, color=\"#333333\", linestyle=\"--\")\n",
    "ax.axvspan(xmin=intervention_index, xmax=intervention_index+30, color=\"#333333\", alpha=0.1)\n",
    "ax.set_yticks(np.arange(-1, 2, 1))\n",
    "ax.set_xlim(0 -10, 300 + 10)\n",
    "ax.set_ylim(-0.2, 1.2)\n",
    "ax.grid()"
   ]
  },
  {
   "cell_type": "code",
   "execution_count": null,
   "metadata": {},
   "outputs": [],
   "source": []
  }
 ],
 "metadata": {
  "kernelspec": {
   "display_name": "umineko-analysis-2024",
   "language": "python",
   "name": "python3"
  },
  "language_info": {
   "codemirror_mode": {
    "name": "ipython",
    "version": 3
   },
   "file_extension": ".py",
   "mimetype": "text/x-python",
   "name": "python",
   "nbconvert_exporter": "python",
   "pygments_lexer": "ipython3",
   "version": "3.11.9"
  }
 },
 "nbformat": 4,
 "nbformat_minor": 2
}
