{
 "cells": [
  {
   "cell_type": "markdown",
   "metadata": {},
   "source": [
    "# Extract every frames from Logbot video data"
   ]
  },
  {
   "cell_type": "code",
   "execution_count": 1,
   "metadata": {},
   "outputs": [],
   "source": [
    "# Note that we used a different anaconda env (Python 3.9.7) for frame extraction\n",
    "import os\n",
    "import numpy as np\n",
    "import cv2\n",
    "import glob"
   ]
  },
  {
   "cell_type": "markdown",
   "metadata": {},
   "source": [
    "## Path"
   ]
  },
  {
   "cell_type": "code",
   "execution_count": null,
   "metadata": {},
   "outputs": [],
   "source": [
    "VIDEO_DIR = f\"C:/Users/ryoma/D/logbot-data/umineko/Umineko2024/v5-umineko-2024-playback\"\n",
    "SAVE_DIR = f\"C:/Users/ryoma/Desktop/yolo/data/extracted-frames/umineko-2024/\"\n",
    "\n",
    "# Change the path appropriately\n",
    "# VIDEO_DIR = f\"../path_to_video_dir/\"\n",
    "# SAVE_DIR = f\"../path_to_save_dir/\""
   ]
  },
  {
   "cell_type": "code",
   "execution_count": null,
   "metadata": {},
   "outputs": [],
   "source": [
    "test_id = \"LBP*\"\n",
    "# test_id = \"LBP08\"\n",
    "# test_id = \"LBP09\"\n",
    "target_video_path = f\"{VIDEO_DIR}/{test_id}/video/*.AVI\"\n",
    "print(target_video_path)\n",
    "video_path_list = sorted(glob.glob(target_video_path))\n",
    "print(len(video_path_list))\n",
    "for v, video_path in enumerate(video_path_list):\n",
    "    # print(f\"{v:03}: {os.path.basename(video_path)}\")\n",
    "    print(f\"{v:03}: {video_path}\")"
   ]
  },
  {
   "cell_type": "markdown",
   "metadata": {},
   "source": [
    "## Convert .AVI files to .jpg files"
   ]
  },
  {
   "cell_type": "code",
   "execution_count": null,
   "metadata": {},
   "outputs": [],
   "source": [
    "over_write = False\n",
    "\n",
    "for v, video_path in enumerate(video_path_list[0:1]): # for test\n",
    "# for v, video_path in enumerate(video_path_list[22:]):\n",
    "# for v, video_path in enumerate(video_path_list[44:]): # LBP08, LBP09\n",
    "# for v, video_path in enumerate(video_path_list):\n",
    "\n",
    "    test_id = os.path.basename(os.path.dirname(os.path.dirname(video_path)))\n",
    "    session_id = f\"S{os.path.basename((video_path))[6:8]}\"\n",
    "    print(f\"{test_id}_{session_id}\")\n",
    "\n",
    "    save_dir = f\"{SAVE_DIR}/{test_id}/{test_id}_{session_id}\"\n",
    "    os.makedirs(save_dir, exist_ok=True)\n",
    "\n",
    "    cap = cv2.VideoCapture(video_path)\n",
    "\n",
    "    frame_count = int(cap.get(cv2.CAP_PROP_FRAME_COUNT))\n",
    "    print(f\"N of frames = {frame_count}\")\n",
    "\n",
    "    if test_id == \"LBP01\" and session_id == \"S03\": # Exception handler\n",
    "        frame_count = 3690 # > 40 min video data -> stop after 02 min 30 sec\n",
    "\n",
    "    items = list(np.arange(0, frame_count, 1))\n",
    "    saved_frames_count = 0\n",
    "    # for i in np.arange(0, 10, 1): # for test\n",
    "    for i, item in enumerate(items):\n",
    "        \n",
    "        if i % 1000 == 0:\n",
    "            print(i)\n",
    "        \n",
    "        # fetch frames\n",
    "        ret, frame = cap.read()\n",
    "\n",
    "        # Save extracted frames\n",
    "        save_path = f'{save_dir}/{test_id}_{session_id}_frame_{i:05}.jpg'\n",
    "        save_path = save_path.lower()\n",
    "\n",
    "        if ret:\n",
    "            if os.path.isfile(save_path) and (over_write == False):\n",
    "                continue\n",
    "            else:\n",
    "                # save image data\n",
    "                # cv2.imwrite(save_path, frame)\n",
    "                saved_frames_count += 1\n",
    "        else:\n",
    "            print(f\"i: {i} -> Not saved.\")\n",
    "\n",
    "    cap.release()\n",
    "    print(f\"saved_frames_count: {saved_frames_count}\")"
   ]
  },
  {
   "cell_type": "code",
   "execution_count": null,
   "metadata": {},
   "outputs": [],
   "source": [
    "# check frame image data\n",
    "target_path = f\"{os.path.dirname(save_path)}/*.jpg\"\n",
    "img_file_path_list = sorted(glob.glob(target_path))\n",
    "print(len(img_file_path_list))"
   ]
  },
  {
   "cell_type": "markdown",
   "metadata": {},
   "source": [
    "## Remove unnecessary image files"
   ]
  },
  {
   "cell_type": "code",
   "execution_count": null,
   "metadata": {},
   "outputs": [],
   "source": [
    "target_path = f\"{SAVE_DIR}/LBP03/LBP03_S00/*.jpg\"\n",
    "img_file_path_list = sorted(glob.glob(target_path))\n",
    "print(len(img_file_path_list))\n",
    "\n",
    "delete_counter = 0\n",
    "for i,  img_file_path in enumerate(img_file_path_list):\n",
    "    file_name = os.path.basename(img_file_path)\n",
    "    if \"(\" in img_file_path and \")\" in img_file_path:\n",
    "        delete_counter += 1\n",
    "        os.remove(img_file_path)\n",
    "        # print(f\"Delete {delete_counter}: {file_name}\")\n",
    "print(len(img_file_path_list))"
   ]
  },
  {
   "cell_type": "code",
   "execution_count": null,
   "metadata": {},
   "outputs": [],
   "source": []
  }
 ],
 "metadata": {
  "kernelspec": {
   "display_name": "yamaneko-analysis",
   "language": "python",
   "name": "python3"
  },
  "language_info": {
   "codemirror_mode": {
    "name": "ipython",
    "version": 3
   },
   "file_extension": ".py",
   "mimetype": "text/x-python",
   "name": "python",
   "nbconvert_exporter": "python",
   "pygments_lexer": "ipython3",
   "version": "3.11.9"
  }
 },
 "nbformat": 4,
 "nbformat_minor": 2
}
