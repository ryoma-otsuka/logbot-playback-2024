{
 "cells": [
  {
   "cell_type": "markdown",
   "id": "c22df489-44d0-46be-9251-df3dbdf5270e",
   "metadata": {},
   "source": [
    "# YOLOv8 Model Predictions"
   ]
  },
  {
   "cell_type": "code",
   "execution_count": 1,
   "id": "c52b8320-67a5-458f-876e-6e0b0163b55e",
   "metadata": {},
   "outputs": [
    {
     "data": {
      "text/html": [
       "<svg  width=\"440\" height=\"55\"><rect x=\"0\" y=\"0\" width=\"55\" height=\"55\" style=\"fill:#e69f00;stroke-width:2;stroke:rgb(255,255,255)\"/><rect x=\"55\" y=\"0\" width=\"55\" height=\"55\" style=\"fill:#56b4e9;stroke-width:2;stroke:rgb(255,255,255)\"/><rect x=\"110\" y=\"0\" width=\"55\" height=\"55\" style=\"fill:#009e73;stroke-width:2;stroke:rgb(255,255,255)\"/><rect x=\"165\" y=\"0\" width=\"55\" height=\"55\" style=\"fill:#f0e442;stroke-width:2;stroke:rgb(255,255,255)\"/><rect x=\"220\" y=\"0\" width=\"55\" height=\"55\" style=\"fill:#0072b2;stroke-width:2;stroke:rgb(255,255,255)\"/><rect x=\"275\" y=\"0\" width=\"55\" height=\"55\" style=\"fill:#d55e00;stroke-width:2;stroke:rgb(255,255,255)\"/><rect x=\"330\" y=\"0\" width=\"55\" height=\"55\" style=\"fill:#cc79a7;stroke-width:2;stroke:rgb(255,255,255)\"/><rect x=\"385\" y=\"0\" width=\"55\" height=\"55\" style=\"fill:#000000;stroke-width:2;stroke:rgb(255,255,255)\"/></svg>"
      ],
      "text/plain": [
       "[(0.9019607843137255, 0.6235294117647059, 0.0),\n",
       " (0.33725490196078434, 0.7058823529411765, 0.9137254901960784),\n",
       " (0.0, 0.6196078431372549, 0.45098039215686275),\n",
       " (0.9411764705882353, 0.8941176470588236, 0.25882352941176473),\n",
       " (0.0, 0.4470588235294118, 0.6980392156862745),\n",
       " (0.8352941176470589, 0.3686274509803922, 0.0),\n",
       " (0.8, 0.4745098039215686, 0.6549019607843137),\n",
       " (0.0, 0.0, 0.0)]"
      ]
     },
     "metadata": {},
     "output_type": "display_data"
    }
   ],
   "source": [
    "import os\n",
    "import cv2\n",
    "import glob\n",
    "import random\n",
    "import numpy as np\n",
    "import pandas as pd\n",
    "import matplotlib.pyplot as plt\n",
    "import seaborn as sns\n",
    "from tqdm import tqdm\n",
    "import torch\n",
    "from ultralytics import YOLO\n",
    "from IPython.display import display, Image\n",
    "\n",
    "import sys\n",
    "sys.path.append(\"../\") # Set parent directory to sys.path\n",
    "sys.dont_write_bytecode = True\n",
    "%load_ext autoreload\n",
    "%autoreload 2\n",
    "import src.utils as utils\n",
    "\n",
    "palette0 = sns.color_palette(['#E69F00', '#56B4E9', '#009E73', '#F0E442', '#0072B2', '#D55E00', '#CC79A7', '#000000']) # Okabe-Ito\n",
    "palette = palette0\n",
    "display(palette)\n",
    "sns.set_theme(context='poster', style='ticks', palette=palette, font_scale=1.0) # very good to see"
   ]
  },
  {
   "cell_type": "code",
   "execution_count": 2,
   "id": "eca65806-a2b2-4bdd-aff1-bd975a253b99",
   "metadata": {},
   "outputs": [
    {
     "name": "stdout",
     "output_type": "stream",
     "text": [
      "Thu Jun 13 03:47:43 2024       \n",
      "+---------------------------------------------------------------------------------------+\n",
      "| NVIDIA-SMI 535.113.01             Driver Version: 535.113.01   CUDA Version: 12.2     |\n",
      "|-----------------------------------------+----------------------+----------------------+\n",
      "| GPU  Name                 Persistence-M | Bus-Id        Disp.A | Volatile Uncorr. ECC |\n",
      "| Fan  Temp   Perf          Pwr:Usage/Cap |         Memory-Usage | GPU-Util  Compute M. |\n",
      "|                                         |                      |               MIG M. |\n",
      "|=========================================+======================+======================|\n",
      "|   0  NVIDIA RTX A6000               On  | 00000000:01:00.0 Off |                  Off |\n",
      "| 30%   27C    P8              28W / 300W |  11208MiB / 49140MiB |      0%      Default |\n",
      "|                                         |                      |                  N/A |\n",
      "+-----------------------------------------+----------------------+----------------------+\n",
      "|   1  NVIDIA RTX A6000               On  | 00000000:41:00.0 Off |                  Off |\n",
      "| 30%   25C    P8              25W / 300W |  14665MiB / 49140MiB |      0%      Default |\n",
      "|                                         |                      |                  N/A |\n",
      "+-----------------------------------------+----------------------+----------------------+\n",
      "                                                                                         \n",
      "+---------------------------------------------------------------------------------------+\n",
      "| Processes:                                                                            |\n",
      "|  GPU   GI   CI        PID   Type   Process name                            GPU Memory |\n",
      "|        ID   ID                                                             Usage      |\n",
      "|=======================================================================================|\n",
      "+---------------------------------------------------------------------------------------+\n",
      "GPU 0: NVIDIA RTX A6000\n",
      "GPU 1: NVIDIA RTX A6000\n"
     ]
    }
   ],
   "source": [
    "!nvidia-smi\n",
    "num_gpus = torch.cuda.device_count()\n",
    "for i in range(num_gpus):\n",
    "    gpu_name = torch.cuda.get_device_name(i)\n",
    "    print(f\"GPU {i}: {gpu_name}\")"
   ]
  },
  {
   "cell_type": "markdown",
   "id": "268238e5-2208-41ec-837a-bc47689e71a5",
   "metadata": {},
   "source": [
    "## Load YOLOv8 model"
   ]
  },
  {
   "cell_type": "code",
   "execution_count": 3,
   "id": "64ab7d6f-f6df-4c1a-ab92-676eafd83994",
   "metadata": {},
   "outputs": [],
   "source": [
    "# Select model for prediction\n",
    "# model_dirname = \"umineko-2024-v7i-yolov8\"\n",
    "model_dirname = \"umineko-2024-v8i-yolov8\"\n",
    "\n",
    "# Load a model\n",
    "WEIGHTS_PATH = \"yolov8s-seg.pt\"\n",
    "model = YOLO(WEIGHTS_PATH)  # load an official model\n",
    "model = YOLO(f\"/mnt/nfs_p/yolo/{model_dirname}/output/train/runs/seed-00/weights/best.pt\")  # load a custom model"
   ]
  },
  {
   "cell_type": "markdown",
   "id": "a343368c-a3b6-4152-a6f8-050e5e358e22",
   "metadata": {},
   "source": [
    "## Process sequential images (test)"
   ]
  },
  {
   "cell_type": "code",
   "execution_count": null,
   "id": "534ab6c3-62c8-4ec5-a4f4-27d970d6b6ca",
   "metadata": {},
   "outputs": [],
   "source": [
    "BASE_DIR = \"/mnt/nfs_p/yolo/data/extracted-frames/umineko-2024/\"\n",
    "os.chdir(BASE_DIR)\n",
    "current_directory = os.getcwd()\n",
    "print(current_directory)"
   ]
  },
  {
   "cell_type": "code",
   "execution_count": null,
   "id": "38d59eab-d7f6-4a58-945e-0c7c483a9d62",
   "metadata": {},
   "outputs": [],
   "source": [
    "data_dir_list = sorted(glob.glob(f\"{BASE_DIR}/*/*\"))\n",
    "print(f\"{len(data_dir_list)} videos\")"
   ]
  },
  {
   "cell_type": "code",
   "execution_count": null,
   "id": "8a00738f-c1ca-43fb-922f-f2d78d12861f",
   "metadata": {},
   "outputs": [],
   "source": [
    "for i, data_dir in enumerate(data_dir_list):\n",
    "    image_path_list = sorted(glob.glob(f\"{data_dir}/*.jpg\"))\n",
    "    session_id = os.path.basename(data_dir)\n",
    "    print(f\"{i:02} | session_id: {session_id} | num frames: {len(image_path_list)}\")"
   ]
  },
  {
   "cell_type": "markdown",
   "id": "6d825204-8f20-42d6-b79c-0cf102f84761",
   "metadata": {},
   "source": [
    "## Run inference"
   ]
  },
  {
   "cell_type": "code",
   "execution_count": null,
   "id": "f8627620-4dcc-4551-b280-5969f5cd8f87",
   "metadata": {
    "scrolled": true
   },
   "outputs": [],
   "source": [
    "mask_color = np.array([167, 121, 204])  # pink\n",
    "\n",
    "# DEVICE = 'cpu'\n",
    "DEVICE = 'cuda:0'\n",
    "# DEVICE = 'cuda:1'\n",
    "\n",
    "# for j, data_dir in enumerate(data_dir_list[:1]):\n",
    "for j, data_dir in enumerate(data_dir_list[1:]):\n",
    "# for j, data_dir in enumerate(data_dir_list):\n",
    "    image_path_list = sorted(glob.glob(f\"{data_dir}/*.jpg\"))\n",
    "    session_id = os.path.basename(data_dir)\n",
    "    print(f\"{j:02} | session_id: {session_id} | num frames: {len(image_path_list)}\")\n",
    "    \n",
    "    threshold = 0.5\n",
    "    null_mask = np.zeros((480, 640), dtype=np.float32)\n",
    "    prev_mask = null_mask\n",
    "    # print(prev_mask.shape)\n",
    "    pixel_count_list = []\n",
    "    diff_pixel_count_list = []\n",
    "    # for i, image_path in enumerate(image_path_list[:20]):\n",
    "    # for i, image_path in enumerate(image_path_list[1930:2000]):\n",
    "    for i, image_path in tqdm(enumerate(image_path_list), total=len(image_path_list)):\n",
    "        image = cv2.imread(image_path)\n",
    "        results = model.predict(image_path, save=False, imgsz=640, conf=0.5, device=DEVICE)\n",
    "        # show_masked_image = True\n",
    "        show_masked_image = True if i % 1000 == 0 else False\n",
    "        curr_mask, pixel_count, fig = utils.create_masked_image(\n",
    "            results, image, mask_color=mask_color, alpha=0.5, show=show_masked_image\n",
    "        )\n",
    "        pixel_count_list.append(pixel_count)\n",
    "        # print(curr_mask.dtype)\n",
    "        # print(curr_mask.shape)\n",
    "        \n",
    "        # Calculate difference\n",
    "        diff_mask = cv2.absdiff(curr_mask, prev_mask)\n",
    "        diff_pixel_count = 0 if i == 0 else np.sum(diff_mask > threshold) \n",
    "        diff_pixel_count_list.append(diff_pixel_count)\n",
    "        prev_mask = curr_mask # update previous mask\n",
    "    \n",
    "    total_pixel_count = 480 * 640\n",
    "    data_dict = {\n",
    "        'pixel_count': pixel_count_list,\n",
    "        'absdiff_pixel_count': diff_pixel_count_list,\n",
    "    }\n",
    "    df = pd.DataFrame(data_dict)\n",
    "    df.insert(len(df.columns), 'pixel_count_p', df['pixel_count']/total_pixel_count)\n",
    "    df.insert(len(df.columns), 'absdiff_pixel_count_p', df['absdiff_pixel_count']/total_pixel_count)\n",
    "    save_path = f\"/mnt/nfs_p/yolo/output/{model_dirname}/predicted-data/{session_id}.csv\"\n",
    "    os.makedirs(os.path.dirname(save_path), exist_ok=True)\n",
    "    df.to_csv(save_path, index=False)"
   ]
  },
  {
   "cell_type": "markdown",
   "id": "b8a1016e-b047-4698-a019-29a61d136297",
   "metadata": {},
   "source": [
    "## Visualize "
   ]
  },
  {
   "cell_type": "code",
   "execution_count": null,
   "id": "7b9f5ec2-2b0e-439b-a6e6-4191f742bbfd",
   "metadata": {},
   "outputs": [],
   "source": [
    "df_vis = pd.read_csv(\"/mnt/nfs_p/yolo/output/predicted-data/LBP00_S00.csv\")\n",
    "display(df)"
   ]
  },
  {
   "cell_type": "code",
   "execution_count": null,
   "id": "cb086449-76f5-4e96-b197-e9ca3c3aa0e4",
   "metadata": {},
   "outputs": [],
   "source": [
    "display(df[1936:2000].head(10))"
   ]
  },
  {
   "cell_type": "code",
   "execution_count": null,
   "id": "606c06ff-4920-43c1-8b31-ccaba5cab9ab",
   "metadata": {
    "scrolled": true
   },
   "outputs": [],
   "source": [
    "GRIDSPEC_KW = {'wspace': 0.3, 'hspace': 0.3}\n",
    "fig, axes = plt.subplots(2, 1, figsize=(20, 10), gridspec_kw=GRIDSPEC_KW)\n",
    "ax_list = axes.flatten().tolist()\n",
    "t = np.arange(0, len(df), 1)\n",
    "y_list = ['pixel_count_p', 'absdiff_pixel_count_p']\n",
    "for a, ax in enumerate(ax_list):\n",
    "    ax = sns.lineplot(\n",
    "        ax=ax, x=t, y=df[f\"{y_list[a]}\"], \n",
    "        color=palette0[a], label=f\"{y_list[a]}\"\n",
    "    )\n",
    "    ax.grid(which='major')\n",
    "    ax.set_xlim(1500 - 10, 2500 + 10)\n",
    "    ax.set_ylabel(y_list[a], labelpad=20)\n",
    "    ax.set_yticks(np.arange(-0.2, 1.2, 0.2))\n",
    "    ax.set_ylim(-0.1, 1.1)\n",
    "    \n",
    "plt.show()\n",
    "plt.close()"
   ]
  },
  {
   "cell_type": "code",
   "execution_count": null,
   "id": "338a453e-388e-44c6-9dc8-8e6780126311",
   "metadata": {},
   "outputs": [],
   "source": []
  }
 ],
 "metadata": {
  "kernelspec": {
   "display_name": "Python 3 (ipykernel)",
   "language": "python",
   "name": "python3"
  },
  "language_info": {
   "codemirror_mode": {
    "name": "ipython",
    "version": 3
   },
   "file_extension": ".py",
   "mimetype": "text/x-python",
   "name": "python",
   "nbconvert_exporter": "python",
   "pygments_lexer": "ipython3",
   "version": "3.10.12"
  }
 },
 "nbformat": 4,
 "nbformat_minor": 5
}
